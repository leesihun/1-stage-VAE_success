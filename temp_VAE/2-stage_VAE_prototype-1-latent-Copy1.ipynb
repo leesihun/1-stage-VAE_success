{
 "cells": [
  {
   "cell_type": "code",
   "execution_count": 1,
   "metadata": {},
   "outputs": [
    {
     "name": "stdout",
     "output_type": "stream",
     "text": [
      "True\n"
     ]
    }
   ],
   "source": [
    "import tensorflow as tf\n",
    "\n",
    "physical_devices = tf.config.list_physical_devices('GPU')\n",
    "tf.config.set_visible_devices(physical_devices[1:],'GPU')\n",
    "tf.executing_eagerly()\n",
    "print(tf.executing_eagerly())"
   ]
  },
  {
   "cell_type": "code",
   "execution_count": 2,
   "metadata": {},
   "outputs": [],
   "source": [
    "import matplotlib as mpl\n",
    "import matplotlib.pyplot as plt\n",
    "import numpy as np\n",
    "import os\n",
    "import pandas as pd"
   ]
  },
  {
   "cell_type": "code",
   "execution_count": 3,
   "metadata": {},
   "outputs": [],
   "source": [
    "mpl.rcParams['figure.figsize'] = (8,6)\n",
    "mpl.rcParams['axes.grid'] = False\n",
    "\n",
    "import math\n",
    "import random\n",
    "import time\n",
    "\n",
    "import functools"
   ]
  },
  {
   "cell_type": "code",
   "execution_count": 4,
   "metadata": {},
   "outputs": [],
   "source": [
    "from tensorflow import keras\n",
    "from tensorflow.keras import backend as K\n",
    "from tensorflow.keras import datasets, Input, layers, models, Model\n",
    "from sklearn.preprocessing import MinMaxScaler"
   ]
  },
  {
   "cell_type": "code",
   "execution_count": 5,
   "metadata": {},
   "outputs": [],
   "source": [
    "from tensorflow.keras.models import Sequential, load_model\n",
    "from tensorflow.keras.layers import Dense, LSTM\n",
    "from IPython import display\n",
    "from tensorflow.compat.v1 import ConfigProto\n",
    "from tensorflow.compat.v1 import InteractiveSession"
   ]
  },
  {
   "cell_type": "code",
   "execution_count": 6,
   "metadata": {},
   "outputs": [],
   "source": [
    "physical_devices = tf.config.list_physical_devices('GPU') \n",
    "for gpu_instance in physical_devices: \n",
    "    tf.config.experimental.set_memory_growth(gpu_instance, True)"
   ]
  },
  {
   "cell_type": "code",
   "execution_count": 7,
   "metadata": {},
   "outputs": [
    {
     "name": "stdout",
     "output_type": "stream",
     "text": [
      "WARNING:tensorflow:NCCL is not supported when using virtual GPUs, fallingback to reduction to one device\n",
      "INFO:tensorflow:Using MirroredStrategy with devices ('/job:localhost/replica:0/task:0/device:GPU:0',)\n"
     ]
    }
   ],
   "source": [
    "tf.device('/GPU:1')\n",
    "tf.config.experimental.list_physical_devices('GPU')\n",
    "\n",
    "strategy = tf.distribute.MirroredStrategy()"
   ]
  },
  {
   "cell_type": "code",
   "execution_count": 8,
   "metadata": {},
   "outputs": [],
   "source": [
    "#session=InteractiveSession(config=config)\n",
    "#session.close()"
   ]
  },
  {
   "cell_type": "markdown",
   "metadata": {},
   "source": [
    "# Input data stream"
   ]
  },
  {
   "cell_type": "code",
   "execution_count": 9,
   "metadata": {},
   "outputs": [
    {
     "name": "stdout",
     "output_type": "stream",
     "text": [
      "1024\n"
     ]
    }
   ],
   "source": [
    "fraction = 50\n",
    "reduction = 1/2\n",
    "stride1 = 1\n",
    "stride2 = 1\n",
    "stride3 = 13\n",
    "strides = stride1*stride2*stride3\n",
    "\n",
    "datasetNo = 4\n",
    "\n",
    "num_param = 10\n",
    "num_time = 800\n",
    "num_time_to = 780\n",
    "num_node = int(14300/fraction)\n",
    "#num_node = 14300\n",
    "num_var = 1\n",
    "\n",
    "n_epochs = 2000               # epoch to call\n",
    "n_epochs_latent=200\n",
    "batch_size = 1\n",
    "LR = 1e-7\n",
    "Lv1_latent_dim = int(128*8)\n",
    "C1 = int(64*2/reduction)\n",
    "C2 = int(128*2/reduction)\n",
    "C3 = int(256*2/reduction)\n",
    "print(Lv1_latent_dim)\n",
    "\n",
    "alpha = 0"
   ]
  },
  {
   "cell_type": "code",
   "execution_count": 10,
   "metadata": {},
   "outputs": [
    {
     "name": "stdout",
     "output_type": "stream",
     "text": [
      "(14300, 8000)\n",
      "(1, 286, 8000)\n",
      "8000\n"
     ]
    }
   ],
   "source": [
    "data_save = np.zeros((num_var, num_node,num_param*num_time))\n",
    "data = np.zeros((num_node,num_param*num_time))\n",
    "\n",
    "if datasetNo == 1:\n",
    "    data = pd.read_csv('input_data/FOM_u_sorted.csv', header = None)\n",
    "    print(data.shape)\n",
    "    #print(data)\n",
    "    data_save[0,0:num_node,:]=data.values[0:num_node,:]\n",
    "\n",
    "if datasetNo == 2:\n",
    "    del(data)\n",
    "    data = pd.read_csv('input_data/FOM_v_sorted.csv', header = None)\n",
    "    print(data.shape)\n",
    "    data_save[1,0:num_node,:]=data.values[0:num_node,:]\n",
    "\n",
    "if datasetNo == 3:\n",
    "    del(data)\n",
    "    data = pd.read_csv('input_data/FOM_x_sorted.csv', header = None)\n",
    "    print(data.shape)\n",
    "    data_save[0,0:num_node,:]=data.values[0:num_node,:]\n",
    "\n",
    "if datasetNo == 4:\n",
    "    del(data)\n",
    "    data = pd.read_csv('input_data/FOM_y_sorted.csv', header = None)\n",
    "    print(data.shape)\n",
    "    data_save[0,0:num_node,:]=data.values[0:num_node,:]\n",
    "    del(data)\n",
    "\n",
    "\n",
    "# Data_save shape : (num_var, num_node, num_time x num_param)\n",
    "\n",
    "print(data_save.shape)\n",
    "print(len(np.transpose(data_save)))\n",
    "\n",
    "data=data_save"
   ]
  },
  {
   "cell_type": "code",
   "execution_count": 11,
   "metadata": {},
   "outputs": [
    {
     "data": {
      "text/plain": [
       "(1, 286, 8000)"
      ]
     },
     "execution_count": 11,
     "metadata": {},
     "output_type": "execute_result"
    }
   ],
   "source": [
    "# validate\n",
    "data.shape"
   ]
  },
  {
   "cell_type": "markdown",
   "metadata": {},
   "source": [
    "## FOM data type : FOM_data = np.array[param, time, node, var]"
   ]
  },
  {
   "cell_type": "code",
   "execution_count": 12,
   "metadata": {},
   "outputs": [
    {
     "data": {
      "text/plain": [
       "(10, 780, 286, 1)"
      ]
     },
     "execution_count": 12,
     "metadata": {},
     "output_type": "execute_result"
    }
   ],
   "source": [
    "FOM_data = np.zeros((num_param, num_time, num_node, num_var))\n",
    "\n",
    "for i in range(num_var):\n",
    "    for j in range(num_node):\n",
    "        for k in range(num_param):\n",
    "            for l in range(num_time):\n",
    "                temp = l+k*num_time\n",
    "                #print(l, k, temp)\n",
    "                FOM_data[k,l,j,i]=data[i,j,temp]\n",
    "                \n",
    "FOM_data_temp = FOM_data\n",
    "del FOM_data\n",
    "\n",
    "FOM_data = np.zeros((num_param, num_time_to, num_node, num_var))\n",
    "for i in range(num_time_to):\n",
    "    FOM_data[:,i,:,:] = FOM_data_temp[:,i,:,:]\n",
    "\n",
    "del FOM_data_temp\n",
    "num_time_to = num_time\n",
    "    \n",
    "FOM_data.shape\n",
    "\n",
    "#del data"
   ]
  },
  {
   "cell_type": "code",
   "execution_count": 13,
   "metadata": {},
   "outputs": [],
   "source": [
    "x_axis = np.linspace(0,num_node,num_node)"
   ]
  },
  {
   "cell_type": "code",
   "execution_count": 14,
   "metadata": {},
   "outputs": [
    {
     "data": {
      "text/plain": [
       "array([  0.        ,   1.00350877,   2.00701754,   3.01052632,\n",
       "         4.01403509,   5.01754386,   6.02105263,   7.0245614 ,\n",
       "         8.02807018,   9.03157895,  10.03508772,  11.03859649,\n",
       "        12.04210526,  13.04561404,  14.04912281,  15.05263158,\n",
       "        16.05614035,  17.05964912,  18.06315789,  19.06666667,\n",
       "        20.07017544,  21.07368421,  22.07719298,  23.08070175,\n",
       "        24.08421053,  25.0877193 ,  26.09122807,  27.09473684,\n",
       "        28.09824561,  29.10175439,  30.10526316,  31.10877193,\n",
       "        32.1122807 ,  33.11578947,  34.11929825,  35.12280702,\n",
       "        36.12631579,  37.12982456,  38.13333333,  39.13684211,\n",
       "        40.14035088,  41.14385965,  42.14736842,  43.15087719,\n",
       "        44.15438596,  45.15789474,  46.16140351,  47.16491228,\n",
       "        48.16842105,  49.17192982,  50.1754386 ,  51.17894737,\n",
       "        52.18245614,  53.18596491,  54.18947368,  55.19298246,\n",
       "        56.19649123,  57.2       ,  58.20350877,  59.20701754,\n",
       "        60.21052632,  61.21403509,  62.21754386,  63.22105263,\n",
       "        64.2245614 ,  65.22807018,  66.23157895,  67.23508772,\n",
       "        68.23859649,  69.24210526,  70.24561404,  71.24912281,\n",
       "        72.25263158,  73.25614035,  74.25964912,  75.26315789,\n",
       "        76.26666667,  77.27017544,  78.27368421,  79.27719298,\n",
       "        80.28070175,  81.28421053,  82.2877193 ,  83.29122807,\n",
       "        84.29473684,  85.29824561,  86.30175439,  87.30526316,\n",
       "        88.30877193,  89.3122807 ,  90.31578947,  91.31929825,\n",
       "        92.32280702,  93.32631579,  94.32982456,  95.33333333,\n",
       "        96.33684211,  97.34035088,  98.34385965,  99.34736842,\n",
       "       100.35087719, 101.35438596, 102.35789474, 103.36140351,\n",
       "       104.36491228, 105.36842105, 106.37192982, 107.3754386 ,\n",
       "       108.37894737, 109.38245614, 110.38596491, 111.38947368,\n",
       "       112.39298246, 113.39649123, 114.4       , 115.40350877,\n",
       "       116.40701754, 117.41052632, 118.41403509, 119.41754386,\n",
       "       120.42105263, 121.4245614 , 122.42807018, 123.43157895,\n",
       "       124.43508772, 125.43859649, 126.44210526, 127.44561404,\n",
       "       128.44912281, 129.45263158, 130.45614035, 131.45964912,\n",
       "       132.46315789, 133.46666667, 134.47017544, 135.47368421,\n",
       "       136.47719298, 137.48070175, 138.48421053, 139.4877193 ,\n",
       "       140.49122807, 141.49473684, 142.49824561, 143.50175439,\n",
       "       144.50526316, 145.50877193, 146.5122807 , 147.51578947,\n",
       "       148.51929825, 149.52280702, 150.52631579, 151.52982456,\n",
       "       152.53333333, 153.53684211, 154.54035088, 155.54385965,\n",
       "       156.54736842, 157.55087719, 158.55438596, 159.55789474,\n",
       "       160.56140351, 161.56491228, 162.56842105, 163.57192982,\n",
       "       164.5754386 , 165.57894737, 166.58245614, 167.58596491,\n",
       "       168.58947368, 169.59298246, 170.59649123, 171.6       ,\n",
       "       172.60350877, 173.60701754, 174.61052632, 175.61403509,\n",
       "       176.61754386, 177.62105263, 178.6245614 , 179.62807018,\n",
       "       180.63157895, 181.63508772, 182.63859649, 183.64210526,\n",
       "       184.64561404, 185.64912281, 186.65263158, 187.65614035,\n",
       "       188.65964912, 189.66315789, 190.66666667, 191.67017544,\n",
       "       192.67368421, 193.67719298, 194.68070175, 195.68421053,\n",
       "       196.6877193 , 197.69122807, 198.69473684, 199.69824561,\n",
       "       200.70175439, 201.70526316, 202.70877193, 203.7122807 ,\n",
       "       204.71578947, 205.71929825, 206.72280702, 207.72631579,\n",
       "       208.72982456, 209.73333333, 210.73684211, 211.74035088,\n",
       "       212.74385965, 213.74736842, 214.75087719, 215.75438596,\n",
       "       216.75789474, 217.76140351, 218.76491228, 219.76842105,\n",
       "       220.77192982, 221.7754386 , 222.77894737, 223.78245614,\n",
       "       224.78596491, 225.78947368, 226.79298246, 227.79649123,\n",
       "       228.8       , 229.80350877, 230.80701754, 231.81052632,\n",
       "       232.81403509, 233.81754386, 234.82105263, 235.8245614 ,\n",
       "       236.82807018, 237.83157895, 238.83508772, 239.83859649,\n",
       "       240.84210526, 241.84561404, 242.84912281, 243.85263158,\n",
       "       244.85614035, 245.85964912, 246.86315789, 247.86666667,\n",
       "       248.87017544, 249.87368421, 250.87719298, 251.88070175,\n",
       "       252.88421053, 253.8877193 , 254.89122807, 255.89473684,\n",
       "       256.89824561, 257.90175439, 258.90526316, 259.90877193,\n",
       "       260.9122807 , 261.91578947, 262.91929825, 263.92280702,\n",
       "       264.92631579, 265.92982456, 266.93333333, 267.93684211,\n",
       "       268.94035088, 269.94385965, 270.94736842, 271.95087719,\n",
       "       272.95438596, 273.95789474, 274.96140351, 275.96491228,\n",
       "       276.96842105, 277.97192982, 278.9754386 , 279.97894737,\n",
       "       280.98245614, 281.98596491, 282.98947368, 283.99298246,\n",
       "       284.99649123, 286.        ])"
      ]
     },
     "execution_count": 14,
     "metadata": {},
     "output_type": "execute_result"
    }
   ],
   "source": [
    "x_axis"
   ]
  },
  {
   "cell_type": "code",
   "execution_count": 15,
   "metadata": {},
   "outputs": [
    {
     "data": {
      "text/plain": [
       "<matplotlib.collections.PathCollection at 0x7f889c1e17c0>"
      ]
     },
     "execution_count": 15,
     "metadata": {},
     "output_type": "execute_result"
    },
    {
     "data": {
      "image/png": "[encoded data removed]",
      "text/plain": [
       "<Figure size 576x432 with 1 Axes>"
      ]
     },
     "metadata": {
      "needs_background": "light"
     },
     "output_type": "display_data"
    }
   ],
   "source": [
    "plt.scatter(x_axis, FOM_data[0,0,:,0])"
   ]
  },
  {
   "cell_type": "code",
   "execution_count": 16,
   "metadata": {},
   "outputs": [
    {
     "name": "stdout",
     "output_type": "stream",
     "text": [
      "-0.0400963761125\n",
      "-0.0489409761125\n",
      "-0.0413117761125\n",
      "-0.040096287525\n"
     ]
    }
   ],
   "source": [
    "# validate\n",
    "print(FOM_data[0,0,0,0])\n",
    "print(FOM_data[1,0,0,0])\n",
    "print(FOM_data[0,1,0,0])\n",
    "print(FOM_data[0,0,2,0])"
   ]
  },
  {
   "cell_type": "code",
   "execution_count": 17,
   "metadata": {},
   "outputs": [],
   "source": [
    "maximum = np.amax(FOM_data)\n",
    "minimum = np.amin(FOM_data)\n",
    "mean = np.mean(FOM_data)\n",
    "AT = maximum-minimum"
   ]
  },
  {
   "cell_type": "code",
   "execution_count": 18,
   "metadata": {},
   "outputs": [
    {
     "name": "stdout",
     "output_type": "stream",
     "text": [
      "0.143542529125\n",
      "-0.1364653525\n",
      "0.0006077139113373788\n",
      "0.280007881625\n"
     ]
    }
   ],
   "source": [
    "print(maximum)\n",
    "print(minimum)\n",
    "print(mean)\n",
    "print(AT)"
   ]
  },
  {
   "cell_type": "code",
   "execution_count": 19,
   "metadata": {},
   "outputs": [],
   "source": [
    "FOM_data = FOM_data-mean\n",
    "FOM_data = FOM_data/AT\n",
    "FOM_data = FOM_data-np.min(FOM_data)"
   ]
  },
  {
   "cell_type": "code",
   "execution_count": 20,
   "metadata": {},
   "outputs": [
    {
     "name": "stdout",
     "output_type": "stream",
     "text": [
      "1.0\n",
      "0.0\n"
     ]
    }
   ],
   "source": [
    "print(np.max(FOM_data))\n",
    "print(np.min(FOM_data))"
   ]
  },
  {
   "cell_type": "code",
   "execution_count": 21,
   "metadata": {},
   "outputs": [
    {
     "data": {
      "text/plain": [
       "(10, 780, 286, 1)"
      ]
     },
     "execution_count": 21,
     "metadata": {},
     "output_type": "execute_result"
    }
   ],
   "source": [
    "FOM_data.shape"
   ]
  },
  {
   "cell_type": "code",
   "execution_count": 22,
   "metadata": {},
   "outputs": [
    {
     "data": {
      "text/plain": [
       "<matplotlib.collections.PathCollection at 0x7f889c2384f0>"
      ]
     },
     "execution_count": 22,
     "metadata": {},
     "output_type": "execute_result"
    },
    {
     "data": {
      "image/png": "[encoded data removed]",
      "text/plain": [
       "<Figure size 576x432 with 1 Axes>"
      ]
     },
     "metadata": {
      "needs_background": "light"
     },
     "output_type": "display_data"
    }
   ],
   "source": [
    "plt.scatter(x_axis, FOM_data[0,0,:,0])"
   ]
  },
  {
   "cell_type": "markdown",
   "metadata": {},
   "source": [
    "# Level 1, SVAE (spatial VAE)"
   ]
  },
  {
   "cell_type": "code",
   "execution_count": 23,
   "metadata": {},
   "outputs": [
    {
     "data": {
      "text/plain": [
       "(7800, 286, 1)"
      ]
     },
     "execution_count": 23,
     "metadata": {},
     "output_type": "execute_result"
    }
   ],
   "source": [
    "#Lv1_input = np.zeros((num_param*num_time, num_node, num_var))\n",
    "# Lv1_input = (num_param x num_time, num_node, num_var)\n",
    "\n",
    "Lv1_input = FOM_data.reshape(-1, num_node, num_var)\n",
    "Lv1_input.shape\n",
    "# Lv1_input is elongated w.r.t. param, 1,2,3,4,..../param change/1,2,3,4,....."
   ]
  },
  {
   "cell_type": "code",
   "execution_count": 24,
   "metadata": {},
   "outputs": [],
   "source": [
    "#validate\n",
    "\n",
    "Lv1_input[200,0,0]\n",
    "Lv1_input_shape_decoder = Lv1_input.shape[1]"
   ]
  },
  {
   "cell_type": "code",
   "execution_count": 25,
   "metadata": {},
   "outputs": [],
   "source": [
    "Lv1_input_shape = Lv1_input.shape[1:]"
   ]
  },
  {
   "cell_type": "code",
   "execution_count": 26,
   "metadata": {},
   "outputs": [
    {
     "name": "stdout",
     "output_type": "stream",
     "text": [
      "(7800, 286, 1)\n",
      "(286, 1)\n"
     ]
    }
   ],
   "source": [
    "print(Lv1_input.shape)\n",
    "print(Lv1_input_shape)"
   ]
  },
  {
   "cell_type": "code",
   "execution_count": 27,
   "metadata": {
    "scrolled": false
   },
   "outputs": [
    {
     "data": {
      "text/plain": [
       "<matplotlib.collections.PathCollection at 0x7f889ddf65e0>"
      ]
     },
     "execution_count": 27,
     "metadata": {},
     "output_type": "execute_result"
    },
    {
     "data": {
      "image/png": "[encoded data removed]",
      "text/plain": [
       "<Figure size 576x432 with 1 Axes>"
      ]
     },
     "metadata": {
      "needs_background": "light"
     },
     "output_type": "display_data"
    }
   ],
   "source": [
    "plt.scatter(x_axis, Lv1_input[0,:,0])"
   ]
  },
  {
   "cell_type": "markdown",
   "metadata": {},
   "source": [
    "# Acquire latent vectors"
   ]
  },
  {
   "cell_type": "code",
   "execution_count": 28,
   "metadata": {
    "scrolled": true
   },
   "outputs": [
    {
     "name": "stdout",
     "output_type": "stream",
     "text": [
      "WARNING:tensorflow:No training configuration found in the save file, so the model was *not* compiled. Compile it manually.\n",
      "Model: \"ENCODER\"\n",
      "__________________________________________________________________________________________________\n",
      "Layer (type)                    Output Shape         Param #     Connected to                     \n",
      "==================================================================================================\n",
      "input_1 (InputLayer)            [(None, 780, 286, 1) 0                                            \n",
      "__________________________________________________________________________________________________\n",
      "conv2d (Conv2D)                 (None, 60, 22, 1024) 26624       input_1[0][0]                    \n",
      "__________________________________________________________________________________________________\n",
      "batch_normalization (BatchNorma (None, 60, 22, 1024) 4096        conv2d[0][0]                     \n",
      "__________________________________________________________________________________________________\n",
      "leaky_re_lu (LeakyReLU)         (None, 60, 22, 1024) 0           batch_normalization[0][0]        \n",
      "__________________________________________________________________________________________________\n",
      "dropout (Dropout)               (None, 60, 22, 1024) 0           leaky_re_lu[0][0]                \n",
      "__________________________________________________________________________________________________\n",
      "conv2d_1 (Conv2D)               (None, 60, 22, 512)  13107712    dropout[0][0]                    \n",
      "__________________________________________________________________________________________________\n",
      "batch_normalization_1 (BatchNor (None, 60, 22, 512)  2048        conv2d_1[0][0]                   \n",
      "__________________________________________________________________________________________________\n",
      "leaky_re_lu_1 (LeakyReLU)       (None, 60, 22, 512)  0           batch_normalization_1[0][0]      \n",
      "__________________________________________________________________________________________________\n",
      "dropout_1 (Dropout)             (None, 60, 22, 512)  0           leaky_re_lu_1[0][0]              \n",
      "__________________________________________________________________________________________________\n",
      "conv2d_2 (Conv2D)               (None, 60, 22, 256)  3277056     dropout_1[0][0]                  \n",
      "__________________________________________________________________________________________________\n",
      "batch_normalization_2 (BatchNor (None, 60, 22, 256)  1024        conv2d_2[0][0]                   \n",
      "__________________________________________________________________________________________________\n",
      "leaky_re_lu_2 (LeakyReLU)       (None, 60, 22, 256)  0           batch_normalization_2[0][0]      \n",
      "__________________________________________________________________________________________________\n",
      "dropout_2 (Dropout)             (None, 60, 22, 256)  0           leaky_re_lu_2[0][0]              \n",
      "__________________________________________________________________________________________________\n",
      "flatten (Flatten)               (None, 337920)       0           dropout_2[0][0]                  \n",
      "__________________________________________________________________________________________________\n",
      "dense_1 (Dense)                 (None, 1024)         346031104   flatten[0][0]                    \n",
      "__________________________________________________________________________________________________\n",
      "activation (Activation)         (None, 1024)         0           dense_1[0][0]                    \n",
      "__________________________________________________________________________________________________\n",
      "tf.math.sqrt (TFOpLambda)       (None, 1024)         0           activation[0][0]                 \n",
      "__________________________________________________________________________________________________\n",
      "dense (Dense)                   (None, 1024)         346031104   flatten[0][0]                    \n",
      "__________________________________________________________________________________________________\n",
      "tf.math.multiply (TFOpLambda)   (None, 1024)         0           tf.math.sqrt[0][0]               \n",
      "__________________________________________________________________________________________________\n",
      "tf.__operators__.add (TFOpLambd (None, 1024)         0           tf.math.multiply[0][0]           \n",
      "                                                                 dense[0][0]                      \n",
      "==================================================================================================\n",
      "Total params: 708,480,768\n",
      "Trainable params: 708,477,184\n",
      "Non-trainable params: 3,584\n",
      "__________________________________________________________________________________________________\n",
      "WARNING:tensorflow:No training configuration found in the save file, so the model was *not* compiled. Compile it manually.\n",
      "Model: \"DECODER\"\n",
      "__________________________________________________________________________________________________\n",
      "Layer (type)                    Output Shape         Param #     Connected to                     \n",
      "==================================================================================================\n",
      "input_2 (InputLayer)            [(None, 1024)]       0                                            \n",
      "__________________________________________________________________________________________________\n",
      "dense_2 (Dense)                 (None, 1320)         1353000     input_2[0][0]                    \n",
      "__________________________________________________________________________________________________\n",
      "leaky_re_lu_3 (LeakyReLU)       (None, 1320)         0           dense_2[0][0]                    \n",
      "__________________________________________________________________________________________________\n",
      "reshape (Reshape)               (None, 60, 22, 1)    0           leaky_re_lu_3[0][0]              \n",
      "__________________________________________________________________________________________________\n",
      "conv2d_transpose (Conv2DTranspo (None, 60, 22, 1024) 17408       reshape[0][0]                    \n",
      "__________________________________________________________________________________________________\n",
      "batch_normalization_3 (BatchNor (None, 60, 22, 1024) 4096        conv2d_transpose[0][0]           \n",
      "__________________________________________________________________________________________________\n",
      "leaky_re_lu_4 (LeakyReLU)       (None, 60, 22, 1024) 0           batch_normalization_3[0][0]      \n",
      "__________________________________________________________________________________________________\n",
      "dropout_3 (Dropout)             (None, 60, 22, 1024) 0           leaky_re_lu_4[0][0]              \n",
      "__________________________________________________________________________________________________\n",
      "conv2d_transpose_1 (Conv2DTrans (None, 60, 22, 512)  8389120     dropout_3[0][0]                  \n",
      "__________________________________________________________________________________________________\n",
      "batch_normalization_4 (BatchNor (None, 60, 22, 512)  2048        conv2d_transpose_1[0][0]         \n",
      "__________________________________________________________________________________________________\n",
      "leaky_re_lu_5 (LeakyReLU)       (None, 60, 22, 512)  0           batch_normalization_4[0][0]      \n",
      "__________________________________________________________________________________________________\n",
      "dropout_4 (Dropout)             (None, 60, 22, 512)  0           leaky_re_lu_5[0][0]              \n",
      "__________________________________________________________________________________________________\n",
      "conv2d_transpose_2 (Conv2DTrans (None, 780, 286, 256 2097408     dropout_4[0][0]                  \n",
      "__________________________________________________________________________________________________\n",
      "batch_normalization_5 (BatchNor (None, 780, 286, 256 1024        conv2d_transpose_2[0][0]         \n",
      "__________________________________________________________________________________________________\n",
      "leaky_re_lu_6 (LeakyReLU)       (None, 780, 286, 256 0           batch_normalization_5[0][0]      \n",
      "__________________________________________________________________________________________________\n",
      "dropout_5 (Dropout)             (None, 780, 286, 256 0           leaky_re_lu_6[0][0]              \n",
      "__________________________________________________________________________________________________\n",
      "dense_3 (Dense)                 (None, 780, 286, 1)  257         dropout_5[0][0]                  \n",
      "__________________________________________________________________________________________________\n",
      "dense_4 (Dense)                 (None, 780, 286, 1)  257         dropout_5[0][0]                  \n",
      "__________________________________________________________________________________________________\n",
      "activation_1 (Activation)       (None, 780, 286, 1)  0           dense_3[0][0]                    \n",
      "__________________________________________________________________________________________________\n",
      "activation_2 (Activation)       (None, 780, 286, 1)  0           dense_4[0][0]                    \n",
      "==================================================================================================\n",
      "Total params: 11,864,618\n",
      "Trainable params: 11,861,034\n",
      "Non-trainable params: 3,584\n",
      "__________________________________________________________________________________________________\n"
     ]
    }
   ],
   "source": [
    "# acquire latent vectors for each param and time sets.\n",
    "# Lv1_input is elongated w.r.t. param, 1,2,3,4,..../param change/1,2,3,4,.....\n",
    "\n",
    "#del Encoder\n",
    "#del Decoder\n",
    "\n",
    "epoch = n_epochs\n",
    "filename1='test_constrained/encoder_COPY_%d.h5' % (epoch)\n",
    "filename2='test_constrained/decoder_COPY_%d.h5' % (epoch)\n",
    "Encoder = load_model(filename1)\n",
    "Encoder.summary()\n",
    "Decoder = load_model(filename2)\n",
    "Decoder.summary()"
   ]
  },
  {
   "cell_type": "code",
   "execution_count": 29,
   "metadata": {},
   "outputs": [
    {
     "data": {
      "text/plain": [
       "200"
      ]
     },
     "execution_count": 29,
     "metadata": {},
     "output_type": "execute_result"
    }
   ],
   "source": [
    "n_epochs_latent"
   ]
  },
  {
   "cell_type": "code",
   "execution_count": 30,
   "metadata": {},
   "outputs": [],
   "source": [
    "Lv1_input = FOM_data"
   ]
  },
  {
   "cell_type": "code",
   "execution_count": 31,
   "metadata": {},
   "outputs": [
    {
     "data": {
      "text/plain": [
       "(10, 780, 286, 1)"
      ]
     },
     "execution_count": 31,
     "metadata": {},
     "output_type": "execute_result"
    }
   ],
   "source": [
    "FOM_data.shape"
   ]
  },
  {
   "cell_type": "code",
   "execution_count": 32,
   "metadata": {
    "scrolled": true
   },
   "outputs": [
    {
     "name": "stdout",
     "output_type": "stream",
     "text": [
      "Epoch: 0\n",
      "[0.35498568 0.36063394 0.36824051 0.37808344 0.38804486 0.40090853\n",
      " 0.41453823 0.42992881 0.44609684 0.46378344]\n",
      "Epoch: 1\n",
      "[0.35444662 0.36063394 0.36791167 0.37701127 0.38804486 0.40039837\n",
      " 0.41432208 0.42992881 0.44609684 0.46367502]\n",
      "Epoch: 2\n",
      "[0.35444662 0.36063394 0.36791167 0.37701127 0.38804486 0.39987424\n",
      " 0.41432208 0.42864612 0.44603232 0.46286237]\n",
      "Epoch: 3\n",
      "[0.35444662 0.36025402 0.36791167 0.37701127 0.38804486 0.39987424\n",
      " 0.41432208 0.42864612 0.44506329 0.46286237]\n",
      "Epoch: 4\n",
      "[0.35444662 0.36025402 0.36791167 0.37687272 0.38804486 0.39987424\n",
      " 0.41432208 0.42864612 0.44506329 0.46286237]\n",
      "Epoch: 5\n",
      "[0.35444662 0.36025402 0.36759141 0.37687272 0.38804486 0.39987424\n",
      " 0.41432208 0.42864612 0.44506329 0.46286237]\n",
      "Epoch: 6\n",
      "[0.35444662 0.36025402 0.36759141 0.37687272 0.38804486 0.39987424\n",
      " 0.41432208 0.42864612 0.44506329 0.46286237]\n",
      "Epoch: 7\n",
      "[0.35444662 0.36025402 0.36759141 0.37687272 0.38804486 0.39987424\n",
      " 0.41432208 0.42864612 0.44506329 0.46286237]\n",
      "Epoch: 8\n",
      "[0.35444662 0.36025402 0.36759141 0.37687272 0.38804486 0.39948946\n",
      " 0.41427702 0.42864612 0.44506329 0.46286237]\n",
      "Epoch: 9\n",
      "[0.35444662 0.36025402 0.36759141 0.37687272 0.38804486 0.39948946\n",
      " 0.41425869 0.42864612 0.44506329 0.46286237]\n",
      "Epoch: 10\n",
      "[0.35444662 0.36025402 0.36759141 0.37687272 0.38804486 0.39948946\n",
      " 0.41288769 0.42864612 0.44506329 0.46286237]\n",
      "Epoch: 11\n",
      "[0.35433036 0.36025402 0.36759141 0.37687272 0.38804486 0.39948946\n",
      " 0.41288769 0.42864612 0.44506329 0.46286237]\n",
      "Epoch: 12\n",
      "[0.35433036 0.36025402 0.36759141 0.37657741 0.38804486 0.39948946\n",
      " 0.41288769 0.42864612 0.44506329 0.46286237]\n",
      "Epoch: 13\n",
      "[0.35433036 0.36025402 0.36759141 0.37657741 0.38804486 0.39948946\n",
      " 0.41288769 0.42864612 0.44506329 0.46286237]\n",
      "Epoch: 14\n",
      "[0.35433036 0.3598789  0.36759141 0.37657741 0.38765374 0.39948946\n",
      " 0.41288769 0.42864612 0.44506329 0.46286237]\n",
      "Epoch: 15\n",
      "[0.35433036 0.3598789  0.36759141 0.37657741 0.38765374 0.39948946\n",
      " 0.41288769 0.42864612 0.44506329 0.46286237]\n",
      "Epoch: 16\n",
      "[0.35433036 0.3598789  0.36759141 0.37657741 0.38765374 0.39948946\n",
      " 0.41288769 0.42864612 0.44506329 0.46280167]\n",
      "Epoch: 17\n",
      "[0.35423118 0.3598789  0.36759141 0.37657741 0.38765374 0.39948946\n",
      " 0.41288769 0.42864612 0.44506329 0.46280167]\n",
      "Epoch: 18\n",
      "[0.35423118 0.3598789  0.36759141 0.37657741 0.38765374 0.39948946\n",
      " 0.41288769 0.42864612 0.44506329 0.46280167]\n",
      "Epoch: 19\n",
      "[0.35423118 0.35951334 0.36759141 0.37657741 0.38765374 0.39948946\n",
      " 0.41288769 0.42864612 0.44506329 0.46280167]\n",
      "Epoch: 20\n",
      "[0.35350838 0.35951334 0.36759141 0.37657741 0.38765374 0.39948946\n",
      " 0.41288769 0.42864612 0.44506329 0.46280167]\n",
      "Epoch: 21\n",
      "[0.35350838 0.35951334 0.36759141 0.37657741 0.3876026  0.39948946\n",
      " 0.41288769 0.42864612 0.44506329 0.46280167]\n",
      "Epoch: 22\n",
      "[0.35350838 0.35951334 0.36759141 0.37657741 0.3876026  0.39948946\n",
      " 0.41288769 0.42864612 0.44506329 0.46280167]\n",
      "Epoch: 23\n",
      "[0.35350838 0.35951334 0.36759141 0.37657741 0.3876026  0.39948946\n",
      " 0.41288769 0.42864612 0.44506329 0.46280167]\n",
      "Epoch: 24\n",
      "[0.35350838 0.35951334 0.36759141 0.37657741 0.3876026  0.39948946\n",
      " 0.41288769 0.42864612 0.44506329 0.46280167]\n",
      "Epoch: 25\n",
      "[0.35350838 0.35951334 0.36759141 0.37657741 0.3876026  0.39948946\n",
      " 0.41288769 0.42864612 0.44506329 0.46280167]\n",
      "Epoch: 26\n",
      "[0.35350838 0.35951334 0.36759141 0.37657741 0.3876026  0.39948946\n",
      " 0.41288769 0.42864612 0.44506329 0.46280167]\n",
      "Epoch: 27\n",
      "[0.35333988 0.35951334 0.36759141 0.37657741 0.3876026  0.39948946\n",
      " 0.41288769 0.42864612 0.44506329 0.46280167]\n",
      "Epoch: 28\n",
      "[0.35333988 0.35951334 0.36759141 0.37657741 0.3876026  0.39948946\n",
      " 0.41288769 0.42864612 0.44506329 0.46280167]\n",
      "Epoch: 29\n",
      "[0.35333988 0.35951334 0.36759141 0.37657741 0.3876026  0.39948946\n",
      " 0.41288769 0.42864612 0.44506329 0.46280167]\n",
      "Epoch: 30\n",
      "[0.35333988 0.35951334 0.36759141 0.37657741 0.3876026  0.39948946\n",
      " 0.41288769 0.42864612 0.44506329 0.46280167]\n",
      "Epoch: 31\n",
      "[0.35333988 0.35951334 0.36759141 0.37657741 0.3876026  0.39948946\n",
      " 0.41288769 0.42864612 0.44506329 0.46280167]\n",
      "Epoch: 32\n",
      "[0.35333988 0.35951334 0.36759141 0.37657741 0.3876026  0.39948946\n",
      " 0.41288769 0.42864612 0.44506329 0.46280167]\n",
      "Epoch: 33\n",
      "[0.35333988 0.35951334 0.36759141 0.37657741 0.3876026  0.39948946\n",
      " 0.41288769 0.42864612 0.44506329 0.46280167]\n",
      "Epoch: 34\n",
      "[0.35333988 0.35951334 0.36759141 0.37657741 0.3876026  0.39948946\n",
      " 0.41288769 0.42864612 0.44506329 0.46280167]\n",
      "Epoch: 35\n",
      "[0.35333988 0.35951334 0.36759141 0.37657741 0.3876026  0.39948946\n",
      " 0.41288769 0.42864612 0.44506329 0.46280167]\n",
      "Epoch: 36\n",
      "[0.35333988 0.35951334 0.36759141 0.37657741 0.3876026  0.39948946\n",
      " 0.41288769 0.42864612 0.44506329 0.46280167]\n",
      "Epoch: 37\n",
      "[0.35333988 0.35951334 0.36759141 0.37657741 0.3876026  0.39948946\n",
      " 0.41288769 0.42864612 0.44506329 0.46280167]\n",
      "Epoch: 38\n",
      "[0.35333988 0.35951334 0.36759141 0.37657741 0.3876026  0.39948946\n",
      " 0.41288769 0.42864612 0.44506329 0.46280167]\n",
      "Epoch: 39\n",
      "[0.35333988 0.35951334 0.36759141 0.37657741 0.3876026  0.39948946\n",
      " 0.41288769 0.42833519 0.44506329 0.46280167]\n",
      "Epoch: 40\n",
      "[0.35333988 0.35944739 0.36759141 0.37657741 0.3876026  0.39948946\n",
      " 0.41288769 0.42833519 0.44506329 0.46280167]\n",
      "Epoch: 41\n",
      "[0.35333988 0.35944739 0.36759141 0.37657741 0.3876026  0.39948946\n",
      " 0.41288769 0.42833519 0.44506329 0.46280167]\n",
      "Epoch: 42\n",
      "[0.35333988 0.35944739 0.36759141 0.37657741 0.3876026  0.39948946\n",
      " 0.41288769 0.42833519 0.44506329 0.46280167]\n",
      "Epoch: 43\n",
      "[0.35333988 0.35944739 0.36759141 0.37657741 0.38759512 0.39948946\n",
      " 0.41288769 0.42833519 0.44506329 0.46280167]\n",
      "Epoch: 44\n",
      "[0.35333988 0.35944739 0.36759141 0.37657741 0.38759512 0.39948946\n",
      " 0.41288769 0.42833519 0.44506329 0.46280167]\n",
      "Epoch: 45\n",
      "[0.35333988 0.35944739 0.36759141 0.37657741 0.38759512 0.39948946\n",
      " 0.41288769 0.42833519 0.44506329 0.46280167]\n",
      "Epoch: 46\n",
      "[0.35333988 0.35944739 0.36759141 0.37657741 0.38759512 0.39948946\n",
      " 0.41288769 0.42833519 0.44506329 0.46280167]\n",
      "Epoch: 47\n",
      "[0.35333988 0.35944739 0.36759141 0.37657741 0.38759512 0.39948946\n",
      " 0.41288769 0.42833519 0.44506329 0.46280167]\n",
      "Epoch: 48\n",
      "[0.35333988 0.35944739 0.36759141 0.37657741 0.38759512 0.39948946\n",
      " 0.41288769 0.42833519 0.44506329 0.46280167]\n",
      "Epoch: 49\n",
      "[0.35333988 0.35944739 0.36759141 0.37657741 0.38759512 0.39948946\n",
      " 0.41288769 0.42833519 0.44506329 0.46280167]\n",
      "Epoch: 50\n",
      "[0.35333988 0.35944739 0.36759141 0.37657741 0.38759512 0.39948946\n",
      " 0.41288769 0.42833519 0.44506329 0.46280167]\n",
      "Epoch: 51\n",
      "[0.35333988 0.35944739 0.36759141 0.37657741 0.38759512 0.39948946\n",
      " 0.41288769 0.42833519 0.44506329 0.46280167]\n",
      "Epoch: 52\n",
      "[0.35333988 0.35944739 0.36759141 0.37657741 0.38759512 0.39948946\n",
      " 0.41288769 0.42833519 0.44506329 0.46280167]\n",
      "Epoch: 53\n",
      "[0.35333988 0.35944739 0.36759141 0.37657741 0.38759512 0.39948946\n",
      " 0.41288769 0.42833519 0.44506329 0.46280167]\n",
      "Epoch: 54\n",
      "[0.35333988 0.35944739 0.36759141 0.37657741 0.38759512 0.39948946\n",
      " 0.41288769 0.42833519 0.44506329 0.46280167]\n",
      "Epoch: 55\n",
      "[0.35333988 0.35944739 0.36759141 0.37657741 0.38759512 0.39948946\n",
      " 0.41288769 0.42833519 0.44506329 0.46280167]\n",
      "Epoch: 56\n",
      "[0.35333988 0.35944739 0.36759141 0.37657741 0.38759512 0.39948946\n",
      " 0.41288769 0.42833519 0.44506329 0.46280167]\n",
      "Epoch: 57\n",
      "[0.35333988 0.35944739 0.36759141 0.37657741 0.38759512 0.39948946\n",
      " 0.41288769 0.42833519 0.44506329 0.46280167]\n",
      "Epoch: 58\n",
      "[0.35333988 0.35944739 0.36759141 0.37657741 0.38759512 0.39948946\n",
      " 0.41288769 0.42833519 0.44506329 0.46280167]\n",
      "Epoch: 59\n",
      "[0.35333988 0.35944739 0.36759141 0.37657741 0.38759512 0.39948946\n",
      " 0.41288769 0.42833519 0.44506329 0.46280167]\n",
      "Epoch: 60\n",
      "[0.35333988 0.35944739 0.36759141 0.37657741 0.38738388 0.39948946\n",
      " 0.41288769 0.42833519 0.44506329 0.46280167]\n",
      "Epoch: 61\n",
      "[0.35333988 0.35944739 0.36759141 0.37657741 0.38738388 0.39948946\n",
      " 0.41288769 0.42833519 0.44506329 0.46280167]\n",
      "Epoch: 62\n",
      "[0.35333988 0.35944739 0.36759141 0.37657741 0.38738388 0.39948946\n",
      " 0.41288769 0.42833519 0.44506329 0.46280167]\n",
      "Epoch: 63\n",
      "[0.35333791 0.35944739 0.36759141 0.37657741 0.38738388 0.39948946\n",
      " 0.41288769 0.42833519 0.44506329 0.46280167]\n",
      "Epoch: 64\n",
      "[0.35333791 0.35944739 0.36759141 0.37657741 0.38738388 0.39948946\n",
      " 0.41288769 0.42833519 0.44506329 0.46280167]\n",
      "Epoch: 65\n",
      "[0.35333791 0.35944739 0.36759141 0.37657741 0.38738388 0.39948946\n",
      " 0.41288769 0.42833519 0.44506329 0.46280167]\n",
      "Epoch: 66\n",
      "[0.35333791 0.35944739 0.36759141 0.37657741 0.38738388 0.39948946\n",
      " 0.41288769 0.42833519 0.44506329 0.46280167]\n"
     ]
    },
    {
     "name": "stdout",
     "output_type": "stream",
     "text": [
      "Epoch: 67\n",
      "[0.35333791 0.35944739 0.36759141 0.37657741 0.38738388 0.39948946\n",
      " 0.41288769 0.42833519 0.44506329 0.46280167]\n",
      "Epoch: 68\n",
      "[0.35333791 0.35944739 0.36759141 0.37657741 0.38738388 0.39948946\n",
      " 0.41288769 0.42833519 0.44506329 0.46280167]\n",
      "Epoch: 69\n",
      "[0.35333791 0.35944739 0.36759141 0.37657741 0.38738388 0.39948946\n",
      " 0.41288769 0.42833519 0.44506329 0.46280167]\n",
      "Epoch: 70\n",
      "[0.35333791 0.35944739 0.36759141 0.37657741 0.38738388 0.39948946\n",
      " 0.41288769 0.42833519 0.44506329 0.46280167]\n",
      "Epoch: 71\n",
      "[0.35333791 0.35944739 0.36759141 0.37657741 0.38738388 0.39948946\n",
      " 0.41288769 0.42833519 0.44506329 0.46280167]\n",
      "Epoch: 72\n",
      "[0.35333791 0.35944739 0.36759141 0.37657741 0.38738388 0.39948946\n",
      " 0.41288769 0.42833519 0.44506329 0.46280167]\n",
      "Epoch: 73\n",
      "[0.35333791 0.35944739 0.36759141 0.37657741 0.38738388 0.39948946\n",
      " 0.41288769 0.42833519 0.44506329 0.46280167]\n",
      "Epoch: 74\n",
      "[0.35333791 0.35944739 0.36759141 0.37657741 0.38738388 0.39948946\n",
      " 0.41288769 0.42833519 0.44506329 0.46280167]\n",
      "Epoch: 75\n",
      "[0.35333791 0.35944739 0.36759141 0.37657741 0.38738388 0.39948946\n",
      " 0.41288769 0.42833519 0.44506329 0.46280167]\n",
      "Epoch: 76\n",
      "[0.35333791 0.35944739 0.36759141 0.37657741 0.38738388 0.39948946\n",
      " 0.41288769 0.42833519 0.44506329 0.46280167]\n",
      "Epoch: 77\n",
      "[0.35333791 0.35944739 0.36759141 0.37657741 0.38738388 0.39948946\n",
      " 0.41288769 0.42833519 0.44506329 0.46280167]\n",
      "Epoch: 78\n",
      "[0.35333791 0.35944739 0.36759141 0.37657741 0.38738388 0.3993727\n",
      " 0.41288769 0.42833519 0.44506329 0.46280167]\n",
      "Epoch: 79\n",
      "[0.35333791 0.35944739 0.36759141 0.37657741 0.38738388 0.3993727\n",
      " 0.41288769 0.42833519 0.44506329 0.46280167]\n",
      "Epoch: 80\n",
      "[0.35333791 0.35944739 0.36759141 0.37657741 0.38738388 0.3993727\n",
      " 0.41288769 0.42833519 0.44506329 0.46280167]\n",
      "Epoch: 81\n",
      "[0.35333791 0.35944739 0.36759141 0.37657741 0.38738388 0.3993727\n",
      " 0.41288769 0.42833519 0.44506329 0.46280167]\n",
      "Epoch: 82\n",
      "[0.35333791 0.35944739 0.36759141 0.37657741 0.38738388 0.3993727\n",
      " 0.41288769 0.42833519 0.44506329 0.46280167]\n",
      "Epoch: 83\n",
      "[0.35333791 0.35944739 0.36759141 0.37657741 0.38738388 0.3993727\n",
      " 0.41288769 0.42833519 0.44506329 0.46280167]\n",
      "Epoch: 84\n",
      "[0.35333791 0.35944739 0.36759141 0.37657741 0.38738388 0.3993727\n",
      " 0.41288769 0.42833519 0.44506329 0.46280167]\n",
      "Epoch: 85\n",
      "[0.35333791 0.35944739 0.36759141 0.37657741 0.38738388 0.3993727\n",
      " 0.41288769 0.42833519 0.44506329 0.46280167]\n",
      "Epoch: 86\n",
      "[0.35333791 0.35944739 0.36759141 0.37657741 0.38738388 0.3993727\n",
      " 0.41288769 0.42833519 0.4447667  0.46280167]\n",
      "Epoch: 87\n",
      "[0.35333791 0.35944739 0.36759141 0.37657741 0.38738388 0.3993727\n",
      " 0.41288769 0.42833519 0.4447667  0.46280167]\n",
      "Epoch: 88\n",
      "[0.35333791 0.35944739 0.36759141 0.37657741 0.38738388 0.3993727\n",
      " 0.41288769 0.42833519 0.4447667  0.46280167]\n",
      "Epoch: 89\n",
      "[0.35333791 0.35944739 0.36759141 0.37657741 0.38738388 0.3993727\n",
      " 0.41288769 0.42833519 0.4447667  0.46280167]\n",
      "Epoch: 90\n",
      "[0.35333791 0.35944739 0.36759141 0.37657741 0.38738388 0.3993727\n",
      " 0.41288769 0.42833519 0.4447667  0.46280167]\n",
      "Epoch: 91\n",
      "[0.35333791 0.35944739 0.36759141 0.37657741 0.38738388 0.3993727\n",
      " 0.41288769 0.42833519 0.4447667  0.46280167]\n",
      "Epoch: 92\n",
      "[0.35333791 0.35944739 0.36759141 0.37657741 0.38738388 0.3993727\n",
      " 0.41288769 0.42833519 0.4447667  0.46280167]\n",
      "Epoch: 93\n",
      "[0.35333791 0.35944739 0.36759141 0.37657741 0.38738388 0.3993727\n",
      " 0.41288769 0.42833519 0.4447667  0.46280167]\n",
      "Epoch: 94\n",
      "[0.35333791 0.35944739 0.36759141 0.37657741 0.38738388 0.3993727\n",
      " 0.41288769 0.42833519 0.4447667  0.46280167]\n",
      "Epoch: 95\n",
      "[0.35333791 0.35944739 0.36759141 0.37657741 0.38738388 0.3993727\n",
      " 0.41288769 0.42833519 0.4447667  0.46280167]\n",
      "Epoch: 96\n",
      "[0.35333791 0.35944739 0.36759141 0.37657741 0.38738388 0.3993727\n",
      " 0.41288769 0.42833519 0.4447667  0.46280167]\n",
      "Epoch: 97\n",
      "[0.35333791 0.35944739 0.36759141 0.37657741 0.38738388 0.3993727\n",
      " 0.41288769 0.42833519 0.4447667  0.46280167]\n",
      "Epoch: 98\n",
      "[0.35333791 0.35944739 0.36759141 0.37657741 0.38738388 0.3993727\n",
      " 0.41288769 0.42833519 0.4447667  0.46280167]\n",
      "Epoch: 99\n",
      "[0.35333791 0.35944739 0.36759141 0.37657741 0.38738388 0.3993727\n",
      " 0.41288769 0.42833519 0.4447667  0.46280167]\n",
      "Epoch: 100\n",
      "[0.35333791 0.35944739 0.36759141 0.37657741 0.38738388 0.3993727\n",
      " 0.41288769 0.42833519 0.4447667  0.46280167]\n",
      "Epoch: 101\n",
      "[0.35333791 0.35944739 0.36759141 0.37657741 0.38738388 0.3993727\n",
      " 0.41288769 0.42833519 0.4447667  0.46280167]\n",
      "Epoch: 102\n",
      "[0.35333791 0.35944739 0.36759141 0.37657741 0.38738388 0.3993727\n",
      " 0.41288769 0.42830738 0.4447667  0.46280167]\n",
      "Epoch: 103\n",
      "[0.35333791 0.35944739 0.36759141 0.37657741 0.38738388 0.3993727\n",
      " 0.41288769 0.42830738 0.4447667  0.46280167]\n",
      "Epoch: 104\n",
      "[0.35333791 0.35944739 0.36759141 0.37657741 0.38738388 0.3993727\n",
      " 0.41288769 0.42830738 0.4447667  0.46280167]\n",
      "Epoch: 105\n",
      "[0.35333791 0.35944739 0.36759141 0.37657741 0.38738388 0.3993727\n",
      " 0.41288769 0.42830738 0.4447667  0.46280167]\n",
      "Epoch: 106\n",
      "[0.35333791 0.35944739 0.36759141 0.37657741 0.38738388 0.3993727\n",
      " 0.41288769 0.42830738 0.4447667  0.46280167]\n",
      "Epoch: 107\n",
      "[0.35333791 0.35944739 0.36759141 0.37657741 0.38738388 0.3993727\n",
      " 0.41288769 0.42830738 0.4447667  0.46280167]\n",
      "Epoch: 108\n",
      "[0.35333791 0.35944739 0.36759141 0.37657741 0.38738388 0.3993727\n",
      " 0.41288769 0.42830738 0.4447667  0.46280167]\n",
      "Epoch: 109\n",
      "[0.35333791 0.35944739 0.36759141 0.37657741 0.38738388 0.3993727\n",
      " 0.41288769 0.42830738 0.4447667  0.46280167]\n",
      "Epoch: 110\n",
      "[0.35333791 0.35944739 0.36759141 0.37657741 0.38738388 0.3993727\n",
      " 0.41288769 0.42830738 0.4447667  0.46280167]\n",
      "Epoch: 111\n",
      "[0.35333791 0.35944739 0.36759141 0.37657741 0.38738388 0.3993727\n",
      " 0.41288769 0.42830738 0.4447667  0.46280167]\n",
      "Epoch: 112\n",
      "[0.35333791 0.35944739 0.36759141 0.37657741 0.38738388 0.3993727\n",
      " 0.41288769 0.42830738 0.4447667  0.46280167]\n",
      "Epoch: 113\n",
      "[0.35333791 0.35944739 0.36759141 0.37657741 0.38738388 0.3993727\n",
      " 0.41288769 0.42830738 0.4447667  0.46280167]\n",
      "Epoch: 114\n",
      "[0.35333791 0.35944739 0.36759141 0.37657741 0.38738388 0.3993727\n",
      " 0.41288769 0.42830738 0.4447667  0.46280167]\n",
      "Epoch: 115\n",
      "[0.35333791 0.35944739 0.36759141 0.37657741 0.38738388 0.3993727\n",
      " 0.41288769 0.42830738 0.4447667  0.46280167]\n",
      "Epoch: 116\n",
      "[0.35333791 0.35944739 0.36759141 0.37657741 0.38738388 0.3993727\n",
      " 0.41288769 0.42830738 0.4447667  0.46280167]\n",
      "Epoch: 117\n",
      "[0.35333791 0.35944739 0.36759141 0.37657741 0.38738388 0.3993727\n",
      " 0.41288769 0.42830738 0.4447667  0.46280167]\n",
      "Epoch: 118\n",
      "[0.35333791 0.35944739 0.36759141 0.37657741 0.38738388 0.3993727\n",
      " 0.41288769 0.42830738 0.4447667  0.46280167]\n",
      "Epoch: 119\n",
      "[0.35333791 0.35944739 0.36759141 0.37657741 0.38738388 0.3993727\n",
      " 0.41288769 0.42830738 0.4447667  0.46280167]\n",
      "Epoch: 120\n",
      "[0.35333791 0.35944739 0.36759141 0.37657741 0.38738388 0.3993727\n",
      " 0.41288769 0.42830738 0.4447667  0.46280167]\n",
      "Epoch: 121\n",
      "[0.35333791 0.35944739 0.36759141 0.37657741 0.38738388 0.3993727\n",
      " 0.41288769 0.42830738 0.4447667  0.46280167]\n",
      "Epoch: 122\n",
      "[0.35333791 0.35944739 0.36759141 0.37657741 0.38738388 0.3993727\n",
      " 0.41288769 0.42830738 0.4447667  0.46280167]\n",
      "Epoch: 123\n",
      "[0.35333791 0.35944739 0.36759141 0.37657741 0.38738388 0.3993727\n",
      " 0.41288769 0.42830738 0.4447667  0.46280167]\n",
      "Epoch: 124\n",
      "[0.35333791 0.35944739 0.36759141 0.37657741 0.38738388 0.3993727\n",
      " 0.41288769 0.42830738 0.4447667  0.46280167]\n",
      "Epoch: 125\n",
      "[0.35333791 0.35944739 0.36759141 0.37657741 0.38738388 0.3993727\n",
      " 0.41288769 0.42830738 0.4447667  0.46280167]\n",
      "Epoch: 126\n",
      "[0.35333791 0.35944739 0.36759141 0.37657741 0.38738388 0.3993727\n",
      " 0.41288769 0.42830738 0.4447667  0.46280167]\n",
      "Epoch: 127\n",
      "[0.35333791 0.35944739 0.36759141 0.37657741 0.38738388 0.3993727\n",
      " 0.41288769 0.42830738 0.4447667  0.46280167]\n",
      "Epoch: 128\n",
      "[0.35333791 0.35944739 0.36759141 0.37657741 0.38738388 0.3993727\n",
      " 0.41288769 0.42830738 0.4447667  0.46280167]\n",
      "Epoch: 129\n",
      "[0.35333791 0.35944739 0.36759141 0.37657741 0.38738388 0.3993727\n",
      " 0.41288769 0.42830738 0.4447667  0.46280167]\n",
      "Epoch: 130\n",
      "[0.35333791 0.35944739 0.36759141 0.37657741 0.38738388 0.3993727\n",
      " 0.41288769 0.42830738 0.4447667  0.46280167]\n",
      "Epoch: 131\n",
      "[0.35333791 0.35944739 0.36759141 0.37657741 0.38738388 0.3993727\n",
      " 0.41288769 0.42830738 0.4447667  0.46280167]\n",
      "Epoch: 132\n",
      "[0.35333791 0.35944739 0.36759141 0.37657741 0.38738388 0.3993727\n",
      " 0.41288769 0.42830738 0.4447667  0.46280167]\n",
      "Epoch: 133\n",
      "[0.35333791 0.35944739 0.36759141 0.37657741 0.38738388 0.3993727\n",
      " 0.41288769 0.42830738 0.4447667  0.46280167]\n"
     ]
    },
    {
     "name": "stdout",
     "output_type": "stream",
     "text": [
      "Epoch: 134\n",
      "[0.35333791 0.35944739 0.36759141 0.37657741 0.38738388 0.3993727\n",
      " 0.41288769 0.42830738 0.4447667  0.46280167]\n",
      "Epoch: 135\n",
      "[0.35333791 0.35944739 0.36759141 0.37657741 0.38738388 0.3993727\n",
      " 0.41288769 0.42830738 0.4447667  0.46280167]\n",
      "Epoch: 136\n",
      "[0.35333791 0.35944739 0.36759141 0.37657741 0.38738388 0.3993727\n",
      " 0.41288769 0.42830738 0.4447667  0.46280167]\n",
      "Epoch: 137\n",
      "[0.35333791 0.35944739 0.36759141 0.37657741 0.38738388 0.3993727\n",
      " 0.41288769 0.42830738 0.4447667  0.46280167]\n",
      "Epoch: 138\n",
      "[0.35333791 0.35944739 0.36759141 0.37657741 0.38738388 0.3993727\n",
      " 0.41288769 0.42830738 0.4447667  0.46280167]\n",
      "Epoch: 139\n",
      "[0.35333791 0.35944739 0.36759141 0.37657741 0.38738388 0.3993727\n",
      " 0.41288769 0.42830738 0.4447667  0.46280167]\n",
      "Epoch: 140\n",
      "[0.35333791 0.35944739 0.36759141 0.37657741 0.38738388 0.3993727\n",
      " 0.41288769 0.42830738 0.4447667  0.46280167]\n",
      "Epoch: 141\n",
      "[0.35333791 0.35944739 0.36759141 0.37657741 0.38738388 0.3993727\n",
      " 0.41288769 0.42830738 0.4447667  0.46280167]\n",
      "Epoch: 142\n",
      "[0.35333791 0.35944739 0.36759141 0.37657741 0.38738388 0.3993727\n",
      " 0.41288769 0.42830738 0.4447667  0.46280167]\n",
      "Epoch: 143\n",
      "[0.35333791 0.35944739 0.36759141 0.37657741 0.38738388 0.3993727\n",
      " 0.41288769 0.42830738 0.4447667  0.46280167]\n",
      "Epoch: 144\n",
      "[0.35333791 0.35944739 0.36759141 0.37657741 0.38738388 0.3993727\n",
      " 0.41288769 0.42830738 0.4447667  0.46280167]\n",
      "Epoch: 145\n",
      "[0.35333791 0.35944739 0.36759141 0.37657741 0.38738388 0.3993727\n",
      " 0.41288769 0.42830738 0.4447667  0.46280167]\n",
      "Epoch: 146\n",
      "[0.35333791 0.35944739 0.36759141 0.37657741 0.38738388 0.3993727\n",
      " 0.41288769 0.42830738 0.4447667  0.46280167]\n",
      "Epoch: 147\n",
      "[0.35333791 0.35944739 0.36759141 0.37657741 0.38738388 0.3993727\n",
      " 0.41288769 0.42830738 0.4447667  0.46280167]\n",
      "Epoch: 148\n",
      "[0.35333791 0.35944739 0.36759141 0.37657741 0.38738388 0.3993727\n",
      " 0.41288769 0.42830738 0.4447667  0.46280167]\n",
      "Epoch: 149\n",
      "[0.35333791 0.35944739 0.36759141 0.37657741 0.38738388 0.3993727\n",
      " 0.41288769 0.42830738 0.4447667  0.46280167]\n",
      "Epoch: 150\n",
      "[0.35333791 0.35944739 0.36759141 0.37657741 0.38738388 0.3993727\n",
      " 0.41288769 0.42830738 0.4447667  0.46280167]\n",
      "Epoch: 151\n",
      "[0.35333791 0.35944739 0.36759141 0.37657741 0.38738388 0.3993727\n",
      " 0.41288769 0.42830738 0.4447667  0.46280167]\n",
      "Epoch: 152\n",
      "[0.35333791 0.35944739 0.36759141 0.37657741 0.38738388 0.3993727\n",
      " 0.41288769 0.42830738 0.4447667  0.46280167]\n",
      "Epoch: 153\n",
      "[0.35333791 0.35944739 0.36759141 0.37657741 0.38738388 0.3993727\n",
      " 0.41288769 0.42830738 0.4447667  0.46280167]\n",
      "Epoch: 154\n",
      "[0.35333791 0.35944739 0.36759141 0.37657741 0.38738388 0.3993727\n",
      " 0.41288769 0.42830738 0.4447667  0.46280167]\n",
      "Epoch: 155\n",
      "[0.35333791 0.35944739 0.36759141 0.37657741 0.38738388 0.3993727\n",
      " 0.41288769 0.42830738 0.4447667  0.46280167]\n",
      "Epoch: 156\n",
      "[0.35333791 0.35944739 0.36759141 0.37657741 0.38738388 0.3993727\n",
      " 0.41288769 0.42830738 0.4447667  0.46280167]\n",
      "Epoch: 157\n",
      "[0.35333791 0.35944739 0.36759141 0.37657741 0.38738388 0.3993727\n",
      " 0.41288769 0.42830738 0.4447667  0.46280167]\n",
      "Epoch: 158\n",
      "[0.35333791 0.35944739 0.36759141 0.37657741 0.38738388 0.3993727\n",
      " 0.41288769 0.42830738 0.4447667  0.46280167]\n",
      "Epoch: 159\n",
      "[0.35333791 0.35944739 0.36759141 0.37657741 0.38738388 0.3993727\n",
      " 0.41288769 0.42830738 0.4447667  0.46280167]\n",
      "Epoch: 160\n",
      "[0.35333791 0.35944739 0.36759141 0.37657741 0.38738388 0.3993727\n",
      " 0.41288769 0.42830738 0.4447667  0.46280167]\n",
      "Epoch: 161\n",
      "[0.35333791 0.35944739 0.36759141 0.37657741 0.38738388 0.3993727\n",
      " 0.41288769 0.42830738 0.4447667  0.46280167]\n",
      "Epoch: 162\n",
      "[0.35333791 0.35944739 0.36759141 0.37657741 0.38738388 0.3993727\n",
      " 0.41288769 0.42830738 0.4447667  0.46280167]\n",
      "Epoch: 163\n",
      "[0.35333791 0.35944739 0.36759141 0.37657741 0.38738388 0.3993727\n",
      " 0.41288769 0.42830738 0.4447667  0.46280167]\n",
      "Epoch: 164\n",
      "[0.35333791 0.35944739 0.36759141 0.37657741 0.38738388 0.3993727\n",
      " 0.41288769 0.42830738 0.4447667  0.46280167]\n",
      "Epoch: 165\n",
      "[0.35333791 0.35944739 0.36759141 0.37657741 0.38738388 0.3993727\n",
      " 0.41288769 0.42830738 0.4447667  0.46280167]\n",
      "Epoch: 166\n",
      "[0.35333791 0.35944739 0.36759141 0.37657741 0.38738388 0.3993727\n",
      " 0.41288769 0.42830738 0.4447667  0.46280167]\n",
      "Epoch: 167\n",
      "[0.35333791 0.35944739 0.36759141 0.37657741 0.38738388 0.3993727\n",
      " 0.41288769 0.42830738 0.4447667  0.46280167]\n",
      "Epoch: 168\n",
      "[0.35333791 0.35944739 0.36759141 0.37657741 0.38738388 0.3993727\n",
      " 0.41288769 0.42830738 0.4447667  0.46280167]\n",
      "Epoch: 169\n",
      "[0.35333791 0.35944739 0.36759141 0.37657741 0.38738388 0.3993727\n",
      " 0.41288769 0.42830738 0.4447667  0.46280167]\n",
      "Epoch: 170\n",
      "[0.35333791 0.35944739 0.36759141 0.37657741 0.38738388 0.3993727\n",
      " 0.41288769 0.42830738 0.4447667  0.46280167]\n",
      "Epoch: 171\n",
      "[0.35333791 0.35944739 0.36759141 0.3763063  0.38738388 0.3993727\n",
      " 0.41288769 0.42830738 0.4447667  0.46280167]\n",
      "Epoch: 172\n",
      "[0.35212395 0.35944739 0.36759141 0.37620509 0.38738388 0.3993727\n",
      " 0.41288769 0.42830738 0.4447667  0.46280167]\n",
      "Epoch: 173\n",
      "[0.35212395 0.35944739 0.36759141 0.37620509 0.38738388 0.3993727\n",
      " 0.41288769 0.42830738 0.4447667  0.46280167]\n",
      "Epoch: 174\n",
      "[0.35212395 0.35944739 0.36759141 0.37620509 0.38738388 0.3993727\n",
      " 0.41288769 0.42830738 0.4447667  0.46280167]\n",
      "Epoch: 175\n",
      "[0.35212395 0.35944739 0.36759141 0.37620509 0.38738388 0.3993727\n",
      " 0.41288769 0.42830738 0.4447667  0.46278408]\n",
      "Epoch: 176\n",
      "[0.35212395 0.35944739 0.36759141 0.37620509 0.38738388 0.3993727\n",
      " 0.41288769 0.42830738 0.4447667  0.46278408]\n",
      "Epoch: 177\n",
      "[0.35212395 0.35944739 0.36759141 0.37620509 0.38738388 0.3993727\n",
      " 0.41288769 0.42830738 0.4447667  0.46278408]\n",
      "Epoch: 178\n",
      "[0.35212395 0.35944739 0.36759141 0.37620509 0.38738388 0.3993727\n",
      " 0.41288769 0.42830738 0.4447667  0.46278408]\n",
      "Epoch: 179\n",
      "[0.35212395 0.35944739 0.36759141 0.37620509 0.38738388 0.3993727\n",
      " 0.41288769 0.42830738 0.4447667  0.46278408]\n",
      "Epoch: 180\n",
      "[0.35212395 0.35944739 0.36759141 0.37620509 0.38738388 0.3993727\n",
      " 0.41288769 0.42830738 0.4447667  0.46278408]\n",
      "Epoch: 181\n",
      "[0.35212395 0.35944739 0.36759141 0.37620509 0.38738388 0.3993727\n",
      " 0.41288769 0.42830738 0.4447667  0.46278408]\n",
      "Epoch: 182\n",
      "[0.35212395 0.35944739 0.36759141 0.37620509 0.38738388 0.3993727\n",
      " 0.41288769 0.42830738 0.4447667  0.46278408]\n",
      "Epoch: 183\n",
      "[0.35212395 0.35944739 0.36757866 0.37620509 0.38738388 0.3993727\n",
      " 0.41288769 0.42830738 0.4447667  0.46278408]\n",
      "Epoch: 184\n",
      "[0.35212395 0.35944739 0.36757866 0.37620509 0.38738388 0.3993727\n",
      " 0.41288769 0.42830738 0.4447667  0.46278408]\n",
      "Epoch: 185\n",
      "[0.35212395 0.35944739 0.36757866 0.37620509 0.38738388 0.3993727\n",
      " 0.41288769 0.42830738 0.4447667  0.46278408]\n",
      "Epoch: 186\n",
      "[0.35212395 0.35944739 0.36757866 0.37620509 0.38738388 0.3993727\n",
      " 0.41288769 0.42830738 0.4447667  0.46278408]\n",
      "Epoch: 187\n",
      "[0.35212395 0.35944739 0.36757866 0.37620509 0.38738388 0.3993727\n",
      " 0.41288769 0.42830738 0.4447667  0.46278408]\n",
      "Epoch: 188\n",
      "[0.35212395 0.35944739 0.36757866 0.37620509 0.38738388 0.3993727\n",
      " 0.41288769 0.42830738 0.4447667  0.46278408]\n",
      "Epoch: 189\n",
      "[0.35212395 0.35944739 0.36757866 0.37620509 0.38738388 0.3993727\n",
      " 0.41288769 0.42830738 0.4447667  0.46278408]\n",
      "Epoch: 190\n",
      "[0.35212395 0.35944739 0.36757866 0.37620509 0.38738388 0.3993727\n",
      " 0.41288769 0.42830738 0.4447667  0.46278408]\n",
      "Epoch: 191\n",
      "[0.35212395 0.35944739 0.36757866 0.37620509 0.38738388 0.3993727\n",
      " 0.41288769 0.42830738 0.4447667  0.46278408]\n",
      "Epoch: 192\n",
      "[0.35212395 0.35944739 0.36757866 0.37620509 0.38738388 0.3993727\n",
      " 0.41288769 0.42817339 0.4447667  0.46278408]\n",
      "Epoch: 193\n",
      "[0.35212395 0.35944739 0.36757866 0.37620509 0.38738388 0.3993727\n",
      " 0.41288769 0.42817339 0.4447667  0.46278408]\n",
      "Epoch: 194\n",
      "[0.35212395 0.35944739 0.36757866 0.37620509 0.38738388 0.3993727\n",
      " 0.41288769 0.42817339 0.4447667  0.46278408]\n",
      "Epoch: 195\n",
      "[0.35212395 0.35944739 0.36757866 0.37620509 0.38738388 0.3993727\n",
      " 0.41288769 0.42817339 0.4447667  0.46278408]\n",
      "Epoch: 196\n",
      "[0.35212395 0.35944739 0.36757866 0.37620509 0.38738388 0.3993727\n",
      " 0.41288769 0.42817339 0.4447667  0.46278408]\n",
      "Epoch: 197\n",
      "[0.35212395 0.35944739 0.36757866 0.37620509 0.38738388 0.3993727\n",
      " 0.41288769 0.42817339 0.4447667  0.46278408]\n",
      "Epoch: 198\n",
      "[0.35212395 0.35944739 0.36757866 0.37620509 0.38738388 0.3993727\n",
      " 0.41288769 0.42817339 0.4447667  0.46278408]\n",
      "Epoch: 199\n",
      "[0.35212395 0.35944739 0.36757866 0.37620509 0.38738388 0.3993727\n",
      " 0.41288769 0.42817339 0.4447667  0.46278408]\n"
     ]
    }
   ],
   "source": [
    "latent_vector_save=np.zeros([num_param, Lv1_latent_dim])\n",
    "\n",
    "def reparam(mu,var):\n",
    "    \n",
    "    eps = tf.random.normal(shape=[Lv1_latent_dim], mean=0.0, stddev=1.0)\n",
    "    z = eps * tf.math.sqrt(var) + mu\n",
    "    \n",
    "    return z\n",
    "\n",
    "def find_latent(x_train):\n",
    "    \n",
    "    mu, var,latent_temp = Encoder(x_train, training=False)\n",
    "    latent_vector = reparam(mu[-1], var[-1])\n",
    "    latent_vector = np.reshape(latent_vector, [-1, Lv1_latent_dim])\n",
    "    gen_x, _ = Decoder(latent_vector, training=False)\n",
    "    \n",
    "    return latent_vector, gen_x\n",
    "\n",
    "latent_vectors = np.zeros([num_param, Lv1_latent_dim])\n",
    "\n",
    "latent_vector = np.zeros([1, Lv1_latent_dim])\n",
    "loss_save = np.ones([num_param])*1000\n",
    "\n",
    "for i in range(n_epochs_latent): \n",
    "    for j in range(num_param):\n",
    "        x = FOM_data[j, :,:,:]\n",
    "        x = np.reshape(x,(1,x.shape[0],x.shape[1],x.shape[2]))\n",
    "        \n",
    "        latent_vector, gen_x = find_latent(x)\n",
    "        \n",
    "        loss = tf.math.reduce_mean(tf.math.square(x - gen_x))\n",
    "        \n",
    "        if loss < loss_save[j]:\n",
    "            loss_save[j] = loss\n",
    "            latent_vector_save[j] = latent_vector\n",
    "            \n",
    "    del latent_vector\n",
    "    print('Epoch: {}'.format(i))\n",
    "    print(loss_save)\n",
    "        \n",
    "latent_vectors = latent_vector_save\n",
    "del latent_vector_save\n",
    "    \n",
    "end_param=time.time()"
   ]
  },
  {
   "cell_type": "code",
   "execution_count": 33,
   "metadata": {},
   "outputs": [
    {
     "data": {
      "text/plain": [
       "array([0.35212395, 0.35944739, 0.36757866, 0.37620509, 0.38738388,\n",
       "       0.3993727 , 0.41288769, 0.42817339, 0.4447667 , 0.46278408])"
      ]
     },
     "execution_count": 33,
     "metadata": {},
     "output_type": "execute_result"
    }
   ],
   "source": [
    "loss_save"
   ]
  },
  {
   "cell_type": "code",
   "execution_count": 34,
   "metadata": {},
   "outputs": [],
   "source": [
    "x_axis1 = np.linspace(1,Lv1_latent_dim,Lv1_latent_dim)"
   ]
  },
  {
   "cell_type": "code",
   "execution_count": 35,
   "metadata": {},
   "outputs": [],
   "source": [
    "for_decoder = np.reshape(latent_vectors, [-1, Lv1_latent_dim])"
   ]
  },
  {
   "cell_type": "code",
   "execution_count": 36,
   "metadata": {},
   "outputs": [],
   "source": [
    "for_decoder1 = np.zeros([Lv1_latent_dim])\n",
    "for_decoder1[:] = for_decoder[0,:]\n",
    "for_decoder2 = np.reshape(for_decoder1, [-1, Lv1_latent_dim])"
   ]
  },
  {
   "cell_type": "code",
   "execution_count": 37,
   "metadata": {},
   "outputs": [],
   "source": [
    "EX,_ = Decoder(for_decoder2)"
   ]
  },
  {
   "cell_type": "code",
   "execution_count": 38,
   "metadata": {},
   "outputs": [
    {
     "data": {
      "image/png": "[encoded data removed]",
      "text/plain": [
       "<Figure size 576x432 with 1 Axes>"
      ]
     },
     "metadata": {
      "needs_background": "light"
     },
     "output_type": "display_data"
    }
   ],
   "source": [
    "for i in range(100):\n",
    "    plt.scatter(x_axis, EX[0,2,:,0])\n",
    "    "
   ]
  },
  {
   "cell_type": "code",
   "execution_count": 39,
   "metadata": {},
   "outputs": [
    {
     "data": {
      "text/plain": [
       "<matplotlib.legend.Legend at 0x7f86f42f3a30>"
      ]
     },
     "execution_count": 39,
     "metadata": {},
     "output_type": "execute_result"
    },
    {
     "data": {
      "image/png": "[encoded data removed]",
      "text/plain": [
       "<Figure size 576x432 with 1 Axes>"
      ]
     },
     "metadata": {
      "needs_background": "light"
     },
     "output_type": "display_data"
    }
   ],
   "source": [
    "\n",
    "plt.scatter(x_axis, Lv1_input[0,0,:,0], label = 'FOM')\n",
    "plt.scatter(x_axis, EX[0,0,:,0], label = 'ROM')\n",
    "plt.legend()"
   ]
  },
  {
   "cell_type": "markdown",
   "metadata": {},
   "source": [
    "# Output latent vectors to file,"
   ]
  },
  {
   "cell_type": "code",
   "execution_count": 40,
   "metadata": {},
   "outputs": [
    {
     "ename": "NameError",
     "evalue": "name 'Lv1_latent' is not defined",
     "output_type": "error",
     "traceback": [
      "\u001b[0;31m---------------------------------------------------------------------------\u001b[0m",
      "\u001b[0;31mNameError\u001b[0m                                 Traceback (most recent call last)",
      "\u001b[0;32m<ipython-input-40-a70c08d421ac>\u001b[0m in \u001b[0;36m<module>\u001b[0;34m\u001b[0m\n\u001b[1;32m      3\u001b[0m \u001b[0;32mfor\u001b[0m \u001b[0mi\u001b[0m \u001b[0;32min\u001b[0m \u001b[0mrange\u001b[0m\u001b[0;34m(\u001b[0m\u001b[0mnum_param\u001b[0m\u001b[0;34m)\u001b[0m\u001b[0;34m:\u001b[0m\u001b[0;34m\u001b[0m\u001b[0;34m\u001b[0m\u001b[0m\n\u001b[1;32m      4\u001b[0m     \u001b[0mfilename3\u001b[0m \u001b[0;34m=\u001b[0m \u001b[0;34m'latent_vectors_Lv1/latent_vector_p-s%d'\u001b[0m \u001b[0;34m%\u001b[0m\u001b[0;34m(\u001b[0m\u001b[0mi\u001b[0m\u001b[0;34m+\u001b[0m\u001b[0;36m1\u001b[0m\u001b[0;34m)\u001b[0m\u001b[0;34m\u001b[0m\u001b[0;34m\u001b[0m\u001b[0m\n\u001b[0;32m----> 5\u001b[0;31m     \u001b[0mnp\u001b[0m\u001b[0;34m.\u001b[0m\u001b[0msavetxt\u001b[0m\u001b[0;34m(\u001b[0m\u001b[0mfilename3\u001b[0m\u001b[0;34m,\u001b[0m \u001b[0mLv1_latent\u001b[0m\u001b[0;34m[\u001b[0m\u001b[0mi\u001b[0m\u001b[0;34m,\u001b[0m\u001b[0;34m:\u001b[0m\u001b[0;34m,\u001b[0m\u001b[0;34m:\u001b[0m\u001b[0;34m]\u001b[0m\u001b[0;34m,\u001b[0m \u001b[0mfmt\u001b[0m \u001b[0;34m=\u001b[0m \u001b[0;34m'%f'\u001b[0m\u001b[0;34m)\u001b[0m\u001b[0;34m\u001b[0m\u001b[0;34m\u001b[0m\u001b[0m\n\u001b[0m",
      "\u001b[0;31mNameError\u001b[0m: name 'Lv1_latent' is not defined"
     ]
    }
   ],
   "source": [
    "# Save latent vectors for each parameter...\n",
    "\n",
    "for i in range(num_param):\n",
    "    filename3 = 'latent_vectors_Lv1/latent_vector_p-s%d' %(i+1)\n",
    "    np.savetxt(filename3, Lv1_latent[i,:,:], fmt = '%f')"
   ]
  },
  {
   "cell_type": "markdown",
   "metadata": {},
   "source": [
    "# Move on to TVAE"
   ]
  },
  {
   "cell_type": "markdown",
   "metadata": {},
   "source": [
    "Now as level 1, SVAE is complete, perform TVAE. Then, with the latent vector from TVAE, interpolate the latent vectors (which is with respect to the parameters). The latent vectors are interpolated and run decoder to gather interpolated latent vector for Lv 1, SVAE.\n",
    "\n",
    "With the interpolated latent vector for Lv 1, SVAE, run it through the decoder of SVAE.\n",
    "\n",
    "With the decoder of Lv 1, the interpolated flow field is constructed."
   ]
  },
  {
   "cell_type": "code",
   "execution_count": null,
   "metadata": {},
   "outputs": [],
   "source": [
    "pause;"
   ]
  },
  {
   "cell_type": "code",
   "execution_count": null,
   "metadata": {},
   "outputs": [],
   "source": []
  },
  {
   "cell_type": "code",
   "execution_count": null,
   "metadata": {},
   "outputs": [],
   "source": []
  },
  {
   "cell_type": "code",
   "execution_count": null,
   "metadata": {},
   "outputs": [],
   "source": []
  }
 ],
 "metadata": {
  "kernelspec": {
   "display_name": "Python 3",
   "language": "python",
   "name": "python3"
  },
  "language_info": {
   "codemirror_mode": {
    "name": "ipython",
    "version": 3
   },
   "file_extension": ".py",
   "mimetype": "text/x-python",
   "name": "python",
   "nbconvert_exporter": "python",
   "pygments_lexer": "ipython3",
   "version": "3.8.2"
  }
 },
 "nbformat": 4,
 "nbformat_minor": 4
}
