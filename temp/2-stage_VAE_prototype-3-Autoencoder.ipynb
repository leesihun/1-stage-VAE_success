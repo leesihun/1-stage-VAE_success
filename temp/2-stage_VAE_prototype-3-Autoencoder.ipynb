{
 "cells": [
  {
   "cell_type": "code",
   "execution_count": 1,
   "metadata": {},
   "outputs": [
    {
     "name": "stdout",
     "output_type": "stream",
     "text": [
      "True\n"
     ]
    }
   ],
   "source": [
    "import tensorflow as tf\n",
    "\n",
    "physical_devices = tf.config.list_physical_devices('GPU')\n",
    "#tf.config.set_visible_devices(physical_devices[1:],'GPU')\n",
    "tf.executing_eagerly()\n",
    "print(tf.executing_eagerly())"
   ]
  },
  {
   "cell_type": "code",
   "execution_count": 2,
   "metadata": {},
   "outputs": [],
   "source": [
    "import matplotlib as mpl\n",
    "import matplotlib.pyplot as plt\n",
    "import numpy as np\n",
    "import os\n",
    "import pandas as pd"
   ]
  },
  {
   "cell_type": "code",
   "execution_count": 3,
   "metadata": {},
   "outputs": [],
   "source": [
    "mpl.rcParams['figure.figsize'] = (8,6)\n",
    "mpl.rcParams['axes.grid'] = False\n",
    "\n",
    "import math\n",
    "import random\n",
    "import time\n",
    "\n",
    "import functools"
   ]
  },
  {
   "cell_type": "code",
   "execution_count": 4,
   "metadata": {},
   "outputs": [],
   "source": [
    "from tensorflow import keras\n",
    "\n",
    "from tensorflow.keras import backend as K\n",
    "from tensorflow.keras import datasets, Input, layers, models, Model\n",
    "from sklearn.preprocessing import MinMaxScaler"
   ]
  },
  {
   "cell_type": "code",
   "execution_count": 5,
   "metadata": {},
   "outputs": [],
   "source": [
    "from tensorflow.keras.models import Sequential, load_model\n",
    "from tensorflow.keras.layers import Dense, LSTM\n",
    "from IPython import display\n",
    "from tensorflow.compat.v1 import ConfigProto\n",
    "from tensorflow.compat.v1 import InteractiveSession"
   ]
  },
  {
   "cell_type": "code",
   "execution_count": 6,
   "metadata": {},
   "outputs": [],
   "source": [
    "physical_devices = tf.config.list_physical_devices('GPU') \n",
    "for gpu_instance in physical_devices: \n",
    "    tf.config.experimental.set_memory_growth(gpu_instance, True)\n",
    "    \n",
    "    # Can't type korean so...\n",
    "    # This is for GPU #1, Which is GPU[0], RTX 3090\n",
    "    "
   ]
  },
  {
   "cell_type": "code",
   "execution_count": 7,
   "metadata": {
    "scrolled": true
   },
   "outputs": [
    {
     "name": "stdout",
     "output_type": "stream",
     "text": [
      "WARNING:tensorflow:Collective ops is not configured at program startup. Some performance features may not be enabled.\n",
      "INFO:tensorflow:Using MirroredStrategy with devices ('/job:localhost/replica:0/task:0/device:GPU:0', '/job:localhost/replica:0/task:0/device:GPU:1')\n"
     ]
    }
   ],
   "source": [
    "tf.device('/GPU:1')\n",
    "tf.config.experimental.list_physical_devices('GPU')\n",
    "\n",
    "strategy = tf.distribute.MirroredStrategy()"
   ]
  },
  {
   "cell_type": "code",
   "execution_count": 8,
   "metadata": {},
   "outputs": [],
   "source": [
    "#session=InteractiveSession(config=config)\n",
    "#session.close()"
   ]
  },
  {
   "cell_type": "markdown",
   "metadata": {},
   "source": [
    "# Input data stream"
   ]
  },
  {
   "cell_type": "code",
   "execution_count": 9,
   "metadata": {},
   "outputs": [],
   "source": [
    "num_param = 10\n",
    "num_time = 200\n",
    "num_node = 14300\n",
    "num_var = 4\n",
    "\n",
    "epoch = 15000    # Epoch to run decoder\n",
    "batch_size = 20\n",
    "LR = 1e-5\n",
    "Lv1_latent_dim = 128\n",
    "\n",
    "alpha = 100\n"
   ]
  },
  {
   "cell_type": "code",
   "execution_count": 10,
   "metadata": {},
   "outputs": [
    {
     "name": "stdout",
     "output_type": "stream",
     "text": [
      "(14300, 2000)\n",
      "(14300, 2000)\n",
      "(14300, 2000)\n",
      "(14300, 2000)\n",
      "(4, 14300, 2000)\n",
      "2000\n"
     ]
    }
   ],
   "source": [
    "data_save = np.zeros((num_var, num_node,num_param*num_time))\n",
    "data = np.zeros((num_node,num_param*num_time))\n",
    "\n",
    "data = pd.read_csv('input_data/FOM_u_sorted.csv', header = None)\n",
    "print(data.shape)\n",
    "#print(data)\n",
    "data_save[0,0:num_node,:]=data.values[0:num_node,:]\n",
    "\n",
    "\n",
    "del(data)\n",
    "data = pd.read_csv('input_data/FOM_v_sorted.csv', header = None)\n",
    "print(data.shape)\n",
    "data_save[1,0:num_node,:]=data.values[0:num_node,:]\n",
    "\n",
    "\n",
    "del(data)\n",
    "data = pd.read_csv('input_data/FOM_x_sorted.csv', header = None)\n",
    "print(data.shape)\n",
    "data_save[2,0:num_node,:]=data.values[0:num_node,:]\n",
    "\n",
    "\n",
    "del(data)\n",
    "data = pd.read_csv('input_data/FOM_y_sorted.csv', header = None)\n",
    "print(data.shape)\n",
    "data_save[3,0:num_node,:]=data.values[0:num_node,:]\n",
    "del(data)\n",
    "\n",
    "\n",
    "\n",
    "# Data_save shape : (num_var, num_node, num_time x num_param)\n",
    "\n",
    "print(data_save.shape)\n",
    "print(len(np.transpose(data_save)))\n",
    "\n",
    "data=data_save"
   ]
  },
  {
   "cell_type": "code",
   "execution_count": 11,
   "metadata": {},
   "outputs": [
    {
     "data": {
      "text/plain": [
       "-0.0579693519999993"
      ]
     },
     "execution_count": 11,
     "metadata": {},
     "output_type": "execute_result"
    }
   ],
   "source": [
    "data[0,2,0]"
   ]
  },
  {
   "cell_type": "code",
   "execution_count": 12,
   "metadata": {},
   "outputs": [
    {
     "data": {
      "text/plain": [
       "(4, 14300, 2000)"
      ]
     },
     "execution_count": 12,
     "metadata": {},
     "output_type": "execute_result"
    }
   ],
   "source": [
    "# validate\n",
    "data.shape"
   ]
  },
  {
   "cell_type": "markdown",
   "metadata": {},
   "source": [
    "## Scale latent codes from Lv 1."
   ]
  },
  {
   "cell_type": "code",
   "execution_count": 13,
   "metadata": {},
   "outputs": [
    {
     "data": {
      "text/plain": [
       "(10, 200, 14300, 4)"
      ]
     },
     "execution_count": 13,
     "metadata": {},
     "output_type": "execute_result"
    }
   ],
   "source": [
    "FOM_data = np.zeros((num_param, num_time, num_node, num_var))\n",
    "\n",
    "for i in range(num_var):\n",
    "    for j in range(num_node):\n",
    "        for k in range(num_param):\n",
    "            for l in range(num_time):\n",
    "                temp = l+k*num_time\n",
    "                #print(l, k, temp)\n",
    "                FOM_data[k,l,j,i]=data[i,j,temp]\n",
    "                \n",
    "FOM_data.shape"
   ]
  },
  {
   "cell_type": "code",
   "execution_count": 14,
   "metadata": {
    "scrolled": true
   },
   "outputs": [
    {
     "name": "stdout",
     "output_type": "stream",
     "text": [
      "-0.0689786094999989\n",
      "-0.053598609499999\n",
      "-0.069068609499999\n",
      "-0.0579693519999993\n"
     ]
    }
   ],
   "source": [
    "# validate\n",
    "print(FOM_data[0,0,0,0])\n",
    "print(FOM_data[1,0,0,0])\n",
    "print(FOM_data[0,1,0,0])\n",
    "print(FOM_data[0,0,2,0])"
   ]
  },
  {
   "cell_type": "code",
   "execution_count": 15,
   "metadata": {},
   "outputs": [],
   "source": [
    "maximum = np.amax(FOM_data)\n",
    "minimum = np.amin(FOM_data)\n",
    "mean = np.mean(FOM_data)\n",
    "AT = maximum-minimum\n",
    "\n",
    "FOM_data = FOM_data-mean\n",
    "FOM_data = FOM_data/AT"
   ]
  },
  {
   "cell_type": "code",
   "execution_count": 16,
   "metadata": {},
   "outputs": [
    {
     "name": "stdout",
     "output_type": "stream",
     "text": [
      "0.39850191880599645\n",
      "-0.6014980811940035\n"
     ]
    }
   ],
   "source": [
    "print(np.max(FOM_data))\n",
    "print(np.min(FOM_data))"
   ]
  },
  {
   "cell_type": "code",
   "execution_count": 17,
   "metadata": {},
   "outputs": [
    {
     "data": {
      "text/plain": [
       "(2000, 14300, 4)"
      ]
     },
     "execution_count": 17,
     "metadata": {},
     "output_type": "execute_result"
    }
   ],
   "source": [
    "#Lv1_input = np.zeros((num_param*num_time, num_node, num_var))\n",
    "# Lv1_input = (num_param x num_time, num_node, num_var)\n",
    "\n",
    "Lv1_input = FOM_data.reshape(-1, num_node, num_var)\n",
    "Lv1_input.shape\n",
    "# Lv1_input is elongated w.r.t. param, 1,2,3,4,..../param change/1,2,3,4,....."
   ]
  },
  {
   "cell_type": "code",
   "execution_count": 18,
   "metadata": {},
   "outputs": [],
   "source": [
    "#validate\n",
    "\n",
    "Lv1_input[200,0,0]\n",
    "Lv1_input_shape_decoder = Lv1_input.shape[1]"
   ]
  },
  {
   "cell_type": "code",
   "execution_count": 19,
   "metadata": {},
   "outputs": [],
   "source": [
    "Lv1_input_shape = Lv1_input.shape[1:]"
   ]
  },
  {
   "cell_type": "code",
   "execution_count": 20,
   "metadata": {},
   "outputs": [
    {
     "name": "stdout",
     "output_type": "stream",
     "text": [
      "(2000, 14300, 4)\n",
      "(14300, 4)\n"
     ]
    }
   ],
   "source": [
    "print(Lv1_input.shape)\n",
    "print(Lv1_input_shape)"
   ]
  },
  {
   "cell_type": "markdown",
   "metadata": {},
   "source": [
    "# Move on to TVAE"
   ]
  },
  {
   "cell_type": "markdown",
   "metadata": {},
   "source": [
    "Now as level 1, SVAE is complete, perform TVAE. Then, with the latent vector from TVAE, interpolate the latent vectors (which is with respect to the parameters). The latent vectors are interpolated and run decoder to gather interpolated latent vector for Lv 1, SVAE.\n",
    "\n",
    "With the interpolated latent vector for Lv 1, SVAE, run it through the decoder of SVAE.\n",
    "\n",
    "With the decoder of Lv 1, the interpolated flow field is constructed."
   ]
  },
  {
   "cell_type": "code",
   "execution_count": 21,
   "metadata": {},
   "outputs": [],
   "source": [
    "filename1='test_constrained_ae/encoder_%d.h5' % (epoch)\n",
    "\n",
    "filename2='test_constrained_ae/decoder_%d.h5' % (epoch)"
   ]
  },
  {
   "cell_type": "code",
   "execution_count": 22,
   "metadata": {
    "scrolled": false
   },
   "outputs": [
    {
     "name": "stdout",
     "output_type": "stream",
     "text": [
      "WARNING:tensorflow:No training configuration found in the save file, so the model was *not* compiled. Compile it manually.\n",
      "Model: \"DECODER\"\n",
      "_________________________________________________________________\n",
      "Layer (type)                 Output Shape              Param #   \n",
      "=================================================================\n",
      "input_2 (InputLayer)         [(None, 128)]             0         \n",
      "_________________________________________________________________\n",
      "dense_1 (Dense)              (None, 1830400)           236121600 \n",
      "_________________________________________________________________\n",
      "leaky_re_lu_3 (LeakyReLU)    (None, 1830400)           0         \n",
      "_________________________________________________________________\n",
      "reshape (Reshape)            (None, 14300, 128)        0         \n",
      "_________________________________________________________________\n",
      "conv1d_transpose (Conv1DTran (None, 14300, 256)        131328    \n",
      "_________________________________________________________________\n",
      "batch_normalization_3 (Batch (None, 14300, 256)        1024      \n",
      "_________________________________________________________________\n",
      "leaky_re_lu_4 (LeakyReLU)    (None, 14300, 256)        0         \n",
      "_________________________________________________________________\n",
      "dropout_3 (Dropout)          (None, 14300, 256)        0         \n",
      "_________________________________________________________________\n",
      "conv1d_transpose_1 (Conv1DTr (None, 14300, 128)        131200    \n",
      "_________________________________________________________________\n",
      "batch_normalization_4 (Batch (None, 14300, 128)        512       \n",
      "_________________________________________________________________\n",
      "leaky_re_lu_5 (LeakyReLU)    (None, 14300, 128)        0         \n",
      "_________________________________________________________________\n",
      "dropout_4 (Dropout)          (None, 14300, 128)        0         \n",
      "_________________________________________________________________\n",
      "conv1d_transpose_2 (Conv1DTr (None, 14300, 64)         32832     \n",
      "_________________________________________________________________\n",
      "batch_normalization_5 (Batch (None, 14300, 64)         256       \n",
      "_________________________________________________________________\n",
      "leaky_re_lu_6 (LeakyReLU)    (None, 14300, 64)         0         \n",
      "_________________________________________________________________\n",
      "dropout_5 (Dropout)          (None, 14300, 64)         0         \n",
      "_________________________________________________________________\n",
      "dense_2 (Dense)              (None, 14300, 4)          260       \n",
      "=================================================================\n",
      "Total params: 236,419,012\n",
      "Trainable params: 236,418,116\n",
      "Non-trainable params: 896\n",
      "_________________________________________________________________\n"
     ]
    }
   ],
   "source": [
    "#Encoder = load_model(filename1)\n",
    "#Encoder.summary()\n",
    "\n",
    "Decoder = load_model(filename2)\n",
    "Decoder.summary()"
   ]
  },
  {
   "cell_type": "code",
   "execution_count": 23,
   "metadata": {},
   "outputs": [
    {
     "data": {
      "text/plain": [
       "(200, 128)"
      ]
     },
     "execution_count": 23,
     "metadata": {},
     "output_type": "execute_result"
    }
   ],
   "source": [
    "filename4 = 'interpolated_latentcode'\n",
    "\n",
    "interp_latent_Lv1 = np.loadtxt(filename4)\n",
    "interp_latent_Lv1.shape"
   ]
  },
  {
   "cell_type": "code",
   "execution_count": 24,
   "metadata": {},
   "outputs": [],
   "source": [
    "interp_latent_Lv1 = interp_latent_Lv1.reshape([num_time, Lv1_latent_dim,1])"
   ]
  },
  {
   "cell_type": "code",
   "execution_count": 25,
   "metadata": {},
   "outputs": [
    {
     "data": {
      "text/plain": [
       "(200, 128, 1)"
      ]
     },
     "execution_count": 25,
     "metadata": {},
     "output_type": "execute_result"
    }
   ],
   "source": [
    "interp_latent_Lv1.shape"
   ]
  },
  {
   "cell_type": "code",
   "execution_count": null,
   "metadata": {},
   "outputs": [],
   "source": []
  },
  {
   "cell_type": "code",
   "execution_count": 26,
   "metadata": {
    "scrolled": true
   },
   "outputs": [
    {
     "name": "stdout",
     "output_type": "stream",
     "text": [
      "0\n",
      "1\n",
      "2\n",
      "3\n",
      "4\n",
      "5\n",
      "6\n",
      "7\n",
      "8\n",
      "9\n",
      "10\n",
      "11\n",
      "12\n",
      "13\n",
      "14\n",
      "15\n",
      "16\n",
      "17\n",
      "18\n",
      "19\n",
      "20\n",
      "21\n",
      "22\n",
      "23\n",
      "24\n",
      "25\n",
      "26\n",
      "27\n",
      "28\n",
      "29\n",
      "30\n",
      "31\n",
      "32\n",
      "33\n",
      "34\n",
      "35\n",
      "36\n",
      "37\n",
      "38\n",
      "39\n",
      "40\n",
      "41\n",
      "42\n",
      "43\n",
      "44\n",
      "45\n",
      "46\n",
      "47\n",
      "48\n",
      "49\n",
      "50\n",
      "51\n",
      "52\n",
      "53\n",
      "54\n",
      "55\n",
      "56\n",
      "57\n",
      "58\n",
      "59\n",
      "60\n",
      "61\n",
      "62\n",
      "63\n",
      "64\n",
      "65\n",
      "66\n",
      "67\n",
      "68\n",
      "69\n",
      "70\n",
      "71\n",
      "72\n",
      "73\n",
      "74\n",
      "75\n",
      "76\n",
      "77\n",
      "78\n",
      "79\n",
      "80\n",
      "81\n",
      "82\n",
      "83\n",
      "84\n",
      "85\n",
      "86\n",
      "87\n",
      "88\n",
      "89\n",
      "90\n",
      "91\n",
      "92\n",
      "93\n",
      "94\n",
      "95\n",
      "96\n",
      "97\n",
      "98\n",
      "99\n",
      "100\n",
      "101\n",
      "102\n",
      "103\n",
      "104\n",
      "105\n",
      "106\n",
      "107\n",
      "108\n",
      "109\n",
      "110\n",
      "111\n",
      "112\n",
      "113\n",
      "114\n",
      "115\n",
      "116\n",
      "117\n",
      "118\n",
      "119\n",
      "120\n",
      "121\n",
      "122\n",
      "123\n",
      "124\n",
      "125\n",
      "126\n",
      "127\n",
      "128\n",
      "129\n",
      "130\n",
      "131\n",
      "132\n",
      "133\n",
      "134\n",
      "135\n",
      "136\n",
      "137\n",
      "138\n",
      "139\n",
      "140\n",
      "141\n",
      "142\n",
      "143\n",
      "144\n",
      "145\n",
      "146\n",
      "147\n",
      "148\n",
      "149\n",
      "150\n",
      "151\n",
      "152\n",
      "153\n",
      "154\n",
      "155\n",
      "156\n",
      "157\n",
      "158\n",
      "159\n",
      "160\n",
      "161\n",
      "162\n",
      "163\n",
      "164\n",
      "165\n",
      "166\n",
      "167\n",
      "168\n",
      "169\n",
      "170\n",
      "171\n",
      "172\n",
      "173\n",
      "174\n",
      "175\n",
      "176\n",
      "177\n",
      "178\n",
      "179\n",
      "180\n",
      "181\n",
      "182\n",
      "183\n",
      "184\n",
      "185\n",
      "186\n",
      "187\n",
      "188\n",
      "189\n",
      "190\n",
      "191\n",
      "192\n",
      "193\n",
      "194\n",
      "195\n",
      "196\n",
      "197\n",
      "198\n",
      "199\n"
     ]
    }
   ],
   "source": [
    "interp_latent_Lv1_temp = np.zeros([1, Lv1_latent_dim, 1])\n",
    "interp_Lv1 = np.zeros([num_time, num_node, num_var])\n",
    "\n",
    "for i in range(num_time):\n",
    "    print(i)\n",
    "    interp_latent_Lv1_temp[0,:,:] = interp_latent_Lv1[i,:,:]\n",
    "    interp_Lv1_temp = Decoder(interp_latent_Lv1_temp, training=False)\n",
    "    interp_Lv1[i,:,:] = interp_Lv1_temp[0,:,:]"
   ]
  },
  {
   "cell_type": "code",
   "execution_count": 27,
   "metadata": {},
   "outputs": [
    {
     "data": {
      "text/plain": [
       "(200, 14300, 4)"
      ]
     },
     "execution_count": 27,
     "metadata": {},
     "output_type": "execute_result"
    }
   ],
   "source": [
    "interp_Lv1.shape"
   ]
  },
  {
   "cell_type": "code",
   "execution_count": 28,
   "metadata": {},
   "outputs": [],
   "source": [
    "interp_Lv1 = interp_Lv1*AT+mean   # Unscale"
   ]
  },
  {
   "cell_type": "code",
   "execution_count": 29,
   "metadata": {},
   "outputs": [
    {
     "name": "stdout",
     "output_type": "stream",
     "text": [
      "0.002925219393980468 -3.8743988661e-05\n"
     ]
    }
   ],
   "source": [
    "print(interp_Lv1[0,14200,0], data_save[0,14200,0])"
   ]
  },
  {
   "cell_type": "code",
   "execution_count": 30,
   "metadata": {},
   "outputs": [],
   "source": [
    "x_axis = np.linspace(0,num_node,num_node)"
   ]
  },
  {
   "cell_type": "code",
   "execution_count": 31,
   "metadata": {},
   "outputs": [
    {
     "data": {
      "text/plain": [
       "<matplotlib.collections.PathCollection at 0x7ff7b8237100>"
      ]
     },
     "execution_count": 31,
     "metadata": {},
     "output_type": "execute_result"
    },
    {
     "data": {
      "image/png": "[encoded data removed]",
      "text/plain": [
       "<Figure size 576x432 with 1 Axes>"
      ]
     },
     "metadata": {
      "needs_background": "light"
     },
     "output_type": "display_data"
    }
   ],
   "source": [
    "plt.scatter(x_axis, interp_Lv1[0,:,0])"
   ]
  },
  {
   "cell_type": "code",
   "execution_count": 32,
   "metadata": {},
   "outputs": [
    {
     "data": {
      "text/plain": [
       "<matplotlib.collections.PathCollection at 0x7ff8100d0790>"
      ]
     },
     "execution_count": 32,
     "metadata": {},
     "output_type": "execute_result"
    },
    {
     "data": {
      "image/png": "[encoded data removed]",
      "text/plain": [
       "<Figure size 576x432 with 1 Axes>"
      ]
     },
     "metadata": {
      "needs_background": "light"
     },
     "output_type": "display_data"
    }
   ],
   "source": [
    "plt.scatter(x_axis, interp_Lv1[0,:,1])"
   ]
  },
  {
   "cell_type": "code",
   "execution_count": 33,
   "metadata": {},
   "outputs": [
    {
     "data": {
      "text/plain": [
       "<matplotlib.collections.PathCollection at 0x7ff810069fa0>"
      ]
     },
     "execution_count": 33,
     "metadata": {},
     "output_type": "execute_result"
    },
    {
     "data": {
      "image/png": "[encoded data removed]",
      "text/plain": [
       "<Figure size 576x432 with 1 Axes>"
      ]
     },
     "metadata": {
      "needs_background": "light"
     },
     "output_type": "display_data"
    }
   ],
   "source": [
    "plt.scatter(x_axis, interp_Lv1[0,:,2])"
   ]
  },
  {
   "cell_type": "code",
   "execution_count": 34,
   "metadata": {},
   "outputs": [
    {
     "data": {
      "text/plain": [
       "<matplotlib.collections.PathCollection at 0x7ff7fc3ee7f0>"
      ]
     },
     "execution_count": 34,
     "metadata": {},
     "output_type": "execute_result"
    },
    {
     "data": {
      "image/png": "[encoded data removed]",
      "text/plain": [
       "<Figure size 576x432 with 1 Axes>"
      ]
     },
     "metadata": {
      "needs_background": "light"
     },
     "output_type": "display_data"
    }
   ],
   "source": [
    "plt.scatter(x_axis, interp_Lv1[0,:,3])"
   ]
  },
  {
   "cell_type": "code",
   "execution_count": 41,
   "metadata": {},
   "outputs": [
    {
     "data": {
      "image/png": "[encoded data removed]",
      "text/plain": [
       "<Figure size 576x432 with 1 Axes>"
      ]
     },
     "metadata": {
      "needs_background": "light"
     },
     "output_type": "display_data"
    }
   ],
   "source": [
    "x_axis1 = np.linspace(1,200,200)\n",
    "for i in range(10):\n",
    "    plt.plot(x_axis1, interp_Lv1[:,i,3])"
   ]
  },
  {
   "cell_type": "code",
   "execution_count": 39,
   "metadata": {},
   "outputs": [
    {
     "name": "stdout",
     "output_type": "stream",
     "text": [
      "0.06915164675116461\n",
      "-0.06479583086897632\n"
     ]
    }
   ],
   "source": [
    "print(np.max(interp_Lv1[:,0,3]))\n",
    "print(np.min(interp_Lv1[:,0,3]))"
   ]
  },
  {
   "cell_type": "code",
   "execution_count": 36,
   "metadata": {},
   "outputs": [],
   "source": [
    "for i in range(num_time):\n",
    "    filename5 = 'interpolated/t-%d' %(i+1)\n",
    "    np.savetxt(filename5, interp_Lv1[i,:,:], fmt='%f')"
   ]
  },
  {
   "cell_type": "code",
   "execution_count": 37,
   "metadata": {
    "scrolled": true
   },
   "outputs": [
    {
     "data": {
      "text/plain": [
       "array([[[ 1.43362860e-02,  1.06426969e-01,  9.96495509e-05,\n",
       "         -6.00768765e-02],\n",
       "        [-2.08103080e-03,  1.92943218e-03, -3.02960311e-05,\n",
       "         -6.61189670e-02],\n",
       "        [ 9.29227143e-03, -1.63705763e-01, -9.33947284e-05,\n",
       "         -6.82466947e-02],\n",
       "        ...,\n",
       "        [ 3.48272785e-04, -2.83796776e-01, -1.56253485e-04,\n",
       "         -6.84390284e-02],\n",
       "        [ 4.88404003e-03, -2.72114397e-01, -1.25354493e-04,\n",
       "         -6.99738345e-02],\n",
       "        [-2.98916994e-03, -2.95194756e-01, -1.23395473e-04,\n",
       "         -6.05579161e-02]],\n",
       "\n",
       "       [[ 1.47249394e-02,  1.02838854e-01,  9.51948854e-05,\n",
       "         -6.25267021e-02],\n",
       "        [-2.77943921e-03,  4.91912776e-03, -3.07147548e-05,\n",
       "         -6.99161071e-02],\n",
       "        [ 6.69524938e-03, -1.67018554e-01, -9.74369406e-05,\n",
       "         -7.35360447e-02],\n",
       "        ...,\n",
       "        [-1.29977695e-04, -2.83611122e-01, -1.61063112e-04,\n",
       "         -7.64138771e-02],\n",
       "        [ 5.02645085e-03, -2.77828158e-01, -1.29304557e-04,\n",
       "         -7.56641463e-02],\n",
       "        [-1.97228600e-03, -2.96347862e-01, -1.37316135e-04,\n",
       "         -6.55700402e-02]],\n",
       "\n",
       "       [[ 1.08129353e-02,  9.31424692e-02,  8.61581284e-05,\n",
       "         -6.41768382e-02],\n",
       "        [-2.47191247e-03,  7.61904906e-03, -3.02426634e-05,\n",
       "         -7.24642714e-02],\n",
       "        [-1.38392151e-03, -1.68626426e-01, -1.00191549e-04,\n",
       "         -7.72608157e-02],\n",
       "        ...,\n",
       "        [-7.04650639e-04, -2.68792780e-01, -1.61704155e-04,\n",
       "         -8.09996561e-02],\n",
       "        [ 4.21411823e-03, -2.67744401e-01, -1.35157267e-04,\n",
       "         -7.90172161e-02],\n",
       "        [-1.44792946e-03, -2.81618148e-01, -1.57690621e-04,\n",
       "         -6.84523224e-02]],\n",
       "\n",
       "       ...,\n",
       "\n",
       "       [[ 3.68375297e-02,  6.86939916e-02,  1.54968947e-04,\n",
       "          6.79667729e-02],\n",
       "        [-7.27362376e-04, -1.09059379e-03,  6.56365489e-05,\n",
       "          8.02807000e-02],\n",
       "        [-6.17689857e-02,  1.95739557e-01,  1.44862556e-04,\n",
       "          8.60267451e-02],\n",
       "        ...,\n",
       "        [-6.37625455e-03, -5.78601897e-02, -2.43277415e-05,\n",
       "          8.36359393e-02],\n",
       "        [-8.17937441e-03, -5.70911273e-02, -5.28716776e-05,\n",
       "          6.86582455e-02],\n",
       "        [-6.48470278e-03, -5.19473834e-02, -5.07674255e-05,\n",
       "          6.47556258e-02]],\n",
       "\n",
       "       [[ 3.79991021e-02,  7.36217679e-02,  1.60674306e-04,\n",
       "          6.91516468e-02],\n",
       "        [-1.22472500e-03, -4.96051544e-04,  6.66053170e-05,\n",
       "          8.19700165e-02],\n",
       "        [-6.49650663e-02,  1.98428010e-01,  1.47351033e-04,\n",
       "          8.80264858e-02],\n",
       "        ...,\n",
       "        [-7.15747609e-03, -6.89075541e-02, -3.34836168e-05,\n",
       "          8.63149295e-02],\n",
       "        [-7.98203641e-03, -7.36041811e-02, -6.34055333e-05,\n",
       "          7.12104672e-02],\n",
       "        [-5.70681282e-03, -6.95757992e-02, -6.67598213e-05,\n",
       "          6.68196900e-02]],\n",
       "\n",
       "       [[ 3.21045196e-02,  6.86074698e-02,  1.54074458e-04,\n",
       "          6.48864332e-02],\n",
       "        [-2.64017619e-03, -2.13417694e-03,  6.00789410e-05,\n",
       "          7.52561498e-02],\n",
       "        [-6.49029907e-02,  1.90026996e-01,  1.46609953e-04,\n",
       "          7.98154193e-02],\n",
       "        ...,\n",
       "        [-6.96262668e-03, -6.82078697e-02, -3.75079871e-05,\n",
       "          7.73225266e-02],\n",
       "        [-8.03826645e-03, -6.02645850e-02, -6.19462279e-05,\n",
       "          6.18807891e-02],\n",
       "        [-6.36075816e-03, -6.77626315e-02, -6.99237636e-05,\n",
       "          5.87345610e-02]]])"
      ]
     },
     "execution_count": 37,
     "metadata": {},
     "output_type": "execute_result"
    }
   ],
   "source": [
    "interp_Lv1"
   ]
  },
  {
   "cell_type": "code",
   "execution_count": null,
   "metadata": {},
   "outputs": [],
   "source": []
  }
 ],
 "metadata": {
  "kernelspec": {
   "display_name": "Python 3",
   "language": "python",
   "name": "python3"
  },
  "language_info": {
   "codemirror_mode": {
    "name": "ipython",
    "version": 3
   },
   "file_extension": ".py",
   "mimetype": "text/x-python",
   "name": "python",
   "nbconvert_exporter": "python",
   "pygments_lexer": "ipython3",
   "version": "3.8.2"
  }
 },
 "nbformat": 4,
 "nbformat_minor": 4
}
